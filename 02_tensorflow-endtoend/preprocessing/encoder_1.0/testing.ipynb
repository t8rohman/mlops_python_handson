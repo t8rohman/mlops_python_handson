{
 "cells": [
  {
   "cell_type": "code",
   "execution_count": 2,
   "metadata": {},
   "outputs": [],
   "source": [
    "import pandas as pd\n",
    "\n",
    "df = pd.read_csv('/Users/taufiqurrohman/Documents/ml_eng-ops/02_learntensorflow/test.csv')"
   ]
  },
  {
   "cell_type": "code",
   "execution_count": 3,
   "metadata": {},
   "outputs": [
    {
     "data": {
      "text/plain": [
       "{'Pclass': 3,\n",
       " 'Sex': 'male',\n",
       " 'Age': 34.5,\n",
       " 'SibSp': 0,\n",
       " 'Parch': 0,\n",
       " 'Ticket': '330911',\n",
       " 'Fare': 7.8292,\n",
       " 'Embarked': 'Q'}"
      ]
     },
     "execution_count": 3,
     "metadata": {},
     "output_type": "execute_result"
    }
   ],
   "source": [
    "json_data = dict(df.loc[0, ['Pclass', 'Sex', 'Age', 'SibSp', 'Parch', 'Ticket', 'Fare', 'Embarked']])\n",
    "json_data"
   ]
  },
  {
   "cell_type": "code",
   "execution_count": 14,
   "metadata": {},
   "outputs": [
    {
     "name": "stdout",
     "output_type": "stream",
     "text": [
      "1/1 [==============================] - 0s 27ms/step\n"
     ]
    },
    {
     "name": "stderr",
     "output_type": "stream",
     "text": [
      "/Users/taufiqurrohman/anaconda3/lib/python3.10/site-packages/sklearn/base.py:420: UserWarning: X does not have valid feature names, but OneHotEncoder was fitted with feature names\n",
      "  warnings.warn(\n"
     ]
    },
    {
     "data": {
      "text/plain": [
       "array([[8.513527e-07]], dtype=float32)"
      ]
     },
     "execution_count": 14,
     "metadata": {},
     "output_type": "execute_result"
    }
   ],
   "source": [
    "import joblib\n",
    "import numpy as np\n",
    "\n",
    "json_data = dict(df.loc[0, ['Pclass', 'Sex', 'Age', 'SibSp', 'Parch', 'Ticket', 'Fare', 'Embarked']])\n",
    "json_data\n",
    "    \n",
    "try:\n",
    "    pclass = json_data.get('Pclass', None)\n",
    "    sex = json_data.get('Sex', None)\n",
    "    age = json_data.get('Age', None)\n",
    "    sibsp = json_data.get('SibSp', None)\n",
    "    parch = json_data.get('Parch', None)\n",
    "    fare = json_data.get('Fare', None)\n",
    "    embarked = json_data.get('Embarked', None)\n",
    "\n",
    "except ValueError as e:\n",
    "    print('One of the variables are missing, please check the data again!')\n",
    "\n",
    "cats = [pclass, sex, embarked]\n",
    "nums = [age, sibsp, parch, fare]\n",
    "\n",
    "encoder = joblib.load('encoder.joblib')\n",
    "encoded_features = encoder.transform([cats])\n",
    "\n",
    "x = np.concatenate([nums, encoded_features[0]])\n",
    "x = x.reshape(1, -1)\n",
    "\n",
    "import tensorflow as tf\n",
    "\n",
    "model_path = f'/Users/taufiqurrohman/Documents/ml_eng-ops/02_learntensorflow/model/v1.0'\n",
    "model = tf.keras.models.load_model(model_path)\n",
    "\n",
    "model.predict(x)"
   ]
  }
 ],
 "metadata": {
  "kernelspec": {
   "display_name": "base",
   "language": "python",
   "name": "python3"
  },
  "language_info": {
   "codemirror_mode": {
    "name": "ipython",
    "version": 3
   },
   "file_extension": ".py",
   "mimetype": "text/x-python",
   "name": "python",
   "nbconvert_exporter": "python",
   "pygments_lexer": "ipython3",
   "version": "3.10.9"
  }
 },
 "nbformat": 4,
 "nbformat_minor": 2
}
