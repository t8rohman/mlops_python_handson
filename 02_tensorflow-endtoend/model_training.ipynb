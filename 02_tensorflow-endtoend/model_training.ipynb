{
 "cells": [
  {
   "cell_type": "markdown",
   "metadata": {},
   "source": [
    "# Learning Tensorflow"
   ]
  },
  {
   "cell_type": "code",
   "execution_count": 37,
   "metadata": {},
   "outputs": [],
   "source": [
    "# model versioning, to keep tracking the model we have\n",
    "# by changing this, will change a lot of variables\n",
    "\n",
    "model_ver = '1.0'"
   ]
  },
  {
   "cell_type": "code",
   "execution_count": 64,
   "metadata": {},
   "outputs": [],
   "source": [
    "# import model version from the config file\n",
    "# .cfg\n",
    "\n",
    "import configparser\n",
    "\n",
    "config = configparser.ConfigParser()\n",
    "config.read('config.cfg')\n",
    "\n",
    "model_ver = config['model']['model_ver']"
   ]
  },
  {
   "cell_type": "markdown",
   "metadata": {},
   "source": [
    "## Extracting"
   ]
  },
  {
   "cell_type": "code",
   "execution_count": 7,
   "metadata": {},
   "outputs": [
    {
     "name": "stdout",
     "output_type": "stream",
     "text": [
      "Warning: Your Kaggle API key is readable by other users on this system! To fix this, you can run 'chmod 600 /Users/taufiqurrohman/.kaggle/kaggle.json'\n",
      "titanic.zip: Skipping, found more recently modified local copy (use --force to force download)\n"
     ]
    }
   ],
   "source": [
    "import os\n",
    "import zipfile\n",
    "\n",
    "# download titanic dataset from kaggle\n",
    "os.system('kaggle competitions download -c titanic')\n",
    "\n",
    "# extract the zipfile\n",
    "with zipfile.ZipFile('titanic.zip', 'r') as zip_ref:\n",
    "    zip_ref.extractall()"
   ]
  },
  {
   "cell_type": "code",
   "execution_count": 1,
   "metadata": {},
   "outputs": [
    {
     "name": "stdout",
     "output_type": "stream",
     "text": [
      "<class 'pandas.core.frame.DataFrame'>\n",
      "RangeIndex: 891 entries, 0 to 890\n",
      "Data columns (total 12 columns):\n",
      " #   Column       Non-Null Count  Dtype  \n",
      "---  ------       --------------  -----  \n",
      " 0   PassengerId  891 non-null    int64  \n",
      " 1   Survived     891 non-null    int64  \n",
      " 2   Pclass       891 non-null    int64  \n",
      " 3   Name         891 non-null    object \n",
      " 4   Sex          891 non-null    object \n",
      " 5   Age          714 non-null    float64\n",
      " 6   SibSp        891 non-null    int64  \n",
      " 7   Parch        891 non-null    int64  \n",
      " 8   Ticket       891 non-null    object \n",
      " 9   Fare         891 non-null    float64\n",
      " 10  Cabin        204 non-null    object \n",
      " 11  Embarked     889 non-null    object \n",
      "dtypes: float64(2), int64(5), object(5)\n",
      "memory usage: 83.7+ KB\n"
     ]
    },
    {
     "name": "stderr",
     "output_type": "stream",
     "text": [
      "/var/folders/vm/yq09zwnn4552bd960_dwt5840000gn/T/ipykernel_29031/311186845.py:7: FutureWarning: The frame.append method is deprecated and will be removed from pandas in a future version. Use pandas.concat instead.\n",
      "  df_info = df.head().append(df.info())\n"
     ]
    },
    {
     "data": {
      "text/html": [
       "<div>\n",
       "<style scoped>\n",
       "    .dataframe tbody tr th:only-of-type {\n",
       "        vertical-align: middle;\n",
       "    }\n",
       "\n",
       "    .dataframe tbody tr th {\n",
       "        vertical-align: top;\n",
       "    }\n",
       "\n",
       "    .dataframe thead th {\n",
       "        text-align: right;\n",
       "    }\n",
       "</style>\n",
       "<table border=\"1\" class=\"dataframe\">\n",
       "  <thead>\n",
       "    <tr style=\"text-align: right;\">\n",
       "      <th></th>\n",
       "      <th>PassengerId</th>\n",
       "      <th>Survived</th>\n",
       "      <th>Pclass</th>\n",
       "      <th>Name</th>\n",
       "      <th>Sex</th>\n",
       "      <th>Age</th>\n",
       "      <th>SibSp</th>\n",
       "      <th>Parch</th>\n",
       "      <th>Ticket</th>\n",
       "      <th>Fare</th>\n",
       "      <th>Cabin</th>\n",
       "      <th>Embarked</th>\n",
       "    </tr>\n",
       "  </thead>\n",
       "  <tbody>\n",
       "    <tr>\n",
       "      <th>0</th>\n",
       "      <td>1</td>\n",
       "      <td>0</td>\n",
       "      <td>3</td>\n",
       "      <td>Braund, Mr. Owen Harris</td>\n",
       "      <td>male</td>\n",
       "      <td>22.0</td>\n",
       "      <td>1</td>\n",
       "      <td>0</td>\n",
       "      <td>A/5 21171</td>\n",
       "      <td>7.2500</td>\n",
       "      <td>NaN</td>\n",
       "      <td>S</td>\n",
       "    </tr>\n",
       "    <tr>\n",
       "      <th>1</th>\n",
       "      <td>2</td>\n",
       "      <td>1</td>\n",
       "      <td>1</td>\n",
       "      <td>Cumings, Mrs. John Bradley (Florence Briggs Th...</td>\n",
       "      <td>female</td>\n",
       "      <td>38.0</td>\n",
       "      <td>1</td>\n",
       "      <td>0</td>\n",
       "      <td>PC 17599</td>\n",
       "      <td>71.2833</td>\n",
       "      <td>C85</td>\n",
       "      <td>C</td>\n",
       "    </tr>\n",
       "    <tr>\n",
       "      <th>2</th>\n",
       "      <td>3</td>\n",
       "      <td>1</td>\n",
       "      <td>3</td>\n",
       "      <td>Heikkinen, Miss. Laina</td>\n",
       "      <td>female</td>\n",
       "      <td>26.0</td>\n",
       "      <td>0</td>\n",
       "      <td>0</td>\n",
       "      <td>STON/O2. 3101282</td>\n",
       "      <td>7.9250</td>\n",
       "      <td>NaN</td>\n",
       "      <td>S</td>\n",
       "    </tr>\n",
       "    <tr>\n",
       "      <th>3</th>\n",
       "      <td>4</td>\n",
       "      <td>1</td>\n",
       "      <td>1</td>\n",
       "      <td>Futrelle, Mrs. Jacques Heath (Lily May Peel)</td>\n",
       "      <td>female</td>\n",
       "      <td>35.0</td>\n",
       "      <td>1</td>\n",
       "      <td>0</td>\n",
       "      <td>113803</td>\n",
       "      <td>53.1000</td>\n",
       "      <td>C123</td>\n",
       "      <td>S</td>\n",
       "    </tr>\n",
       "    <tr>\n",
       "      <th>4</th>\n",
       "      <td>5</td>\n",
       "      <td>0</td>\n",
       "      <td>3</td>\n",
       "      <td>Allen, Mr. William Henry</td>\n",
       "      <td>male</td>\n",
       "      <td>35.0</td>\n",
       "      <td>0</td>\n",
       "      <td>0</td>\n",
       "      <td>373450</td>\n",
       "      <td>8.0500</td>\n",
       "      <td>NaN</td>\n",
       "      <td>S</td>\n",
       "    </tr>\n",
       "  </tbody>\n",
       "</table>\n",
       "</div>"
      ],
      "text/plain": [
       "   PassengerId  Survived  Pclass  \\\n",
       "0            1         0       3   \n",
       "1            2         1       1   \n",
       "2            3         1       3   \n",
       "3            4         1       1   \n",
       "4            5         0       3   \n",
       "\n",
       "                                                Name     Sex   Age  SibSp  \\\n",
       "0                            Braund, Mr. Owen Harris    male  22.0      1   \n",
       "1  Cumings, Mrs. John Bradley (Florence Briggs Th...  female  38.0      1   \n",
       "2                             Heikkinen, Miss. Laina  female  26.0      0   \n",
       "3       Futrelle, Mrs. Jacques Heath (Lily May Peel)  female  35.0      1   \n",
       "4                           Allen, Mr. William Henry    male  35.0      0   \n",
       "\n",
       "   Parch            Ticket     Fare Cabin Embarked  \n",
       "0      0         A/5 21171   7.2500   NaN        S  \n",
       "1      0          PC 17599  71.2833   C85        C  \n",
       "2      0  STON/O2. 3101282   7.9250   NaN        S  \n",
       "3      0            113803  53.1000  C123        S  \n",
       "4      0            373450   8.0500   NaN        S  "
      ]
     },
     "metadata": {},
     "output_type": "display_data"
    }
   ],
   "source": [
    "import pandas as pd\n",
    "\n",
    "# read the training dataframe\n",
    "df = pd.read_csv('train.csv')\n",
    "\n",
    "# show the snippet of the dataframe\n",
    "df_info = df.head().append(df.info())\n",
    "display(df_info)"
   ]
  },
  {
   "cell_type": "markdown",
   "metadata": {},
   "source": [
    "## Exploratory Data Analysis"
   ]
  },
  {
   "cell_type": "code",
   "execution_count": 2,
   "metadata": {},
   "outputs": [
    {
     "data": {
      "text/html": [
       "<div>\n",
       "<style scoped>\n",
       "    .dataframe tbody tr th:only-of-type {\n",
       "        vertical-align: middle;\n",
       "    }\n",
       "\n",
       "    .dataframe tbody tr th {\n",
       "        vertical-align: top;\n",
       "    }\n",
       "\n",
       "    .dataframe thead th {\n",
       "        text-align: right;\n",
       "    }\n",
       "</style>\n",
       "<table border=\"1\" class=\"dataframe\">\n",
       "  <thead>\n",
       "    <tr style=\"text-align: right;\">\n",
       "      <th></th>\n",
       "      <th>PassengerId</th>\n",
       "      <th>Survived</th>\n",
       "      <th>Pclass</th>\n",
       "      <th>Age</th>\n",
       "      <th>SibSp</th>\n",
       "      <th>Parch</th>\n",
       "      <th>Fare</th>\n",
       "    </tr>\n",
       "  </thead>\n",
       "  <tbody>\n",
       "    <tr>\n",
       "      <th>count</th>\n",
       "      <td>891.000000</td>\n",
       "      <td>891.000000</td>\n",
       "      <td>891.000000</td>\n",
       "      <td>714.000000</td>\n",
       "      <td>891.000000</td>\n",
       "      <td>891.000000</td>\n",
       "      <td>891.000000</td>\n",
       "    </tr>\n",
       "    <tr>\n",
       "      <th>mean</th>\n",
       "      <td>446.000000</td>\n",
       "      <td>0.383838</td>\n",
       "      <td>2.308642</td>\n",
       "      <td>29.699118</td>\n",
       "      <td>0.523008</td>\n",
       "      <td>0.381594</td>\n",
       "      <td>32.204208</td>\n",
       "    </tr>\n",
       "    <tr>\n",
       "      <th>std</th>\n",
       "      <td>257.353842</td>\n",
       "      <td>0.486592</td>\n",
       "      <td>0.836071</td>\n",
       "      <td>14.526497</td>\n",
       "      <td>1.102743</td>\n",
       "      <td>0.806057</td>\n",
       "      <td>49.693429</td>\n",
       "    </tr>\n",
       "    <tr>\n",
       "      <th>min</th>\n",
       "      <td>1.000000</td>\n",
       "      <td>0.000000</td>\n",
       "      <td>1.000000</td>\n",
       "      <td>0.420000</td>\n",
       "      <td>0.000000</td>\n",
       "      <td>0.000000</td>\n",
       "      <td>0.000000</td>\n",
       "    </tr>\n",
       "    <tr>\n",
       "      <th>25%</th>\n",
       "      <td>223.500000</td>\n",
       "      <td>0.000000</td>\n",
       "      <td>2.000000</td>\n",
       "      <td>20.125000</td>\n",
       "      <td>0.000000</td>\n",
       "      <td>0.000000</td>\n",
       "      <td>7.910400</td>\n",
       "    </tr>\n",
       "    <tr>\n",
       "      <th>50%</th>\n",
       "      <td>446.000000</td>\n",
       "      <td>0.000000</td>\n",
       "      <td>3.000000</td>\n",
       "      <td>28.000000</td>\n",
       "      <td>0.000000</td>\n",
       "      <td>0.000000</td>\n",
       "      <td>14.454200</td>\n",
       "    </tr>\n",
       "    <tr>\n",
       "      <th>75%</th>\n",
       "      <td>668.500000</td>\n",
       "      <td>1.000000</td>\n",
       "      <td>3.000000</td>\n",
       "      <td>38.000000</td>\n",
       "      <td>1.000000</td>\n",
       "      <td>0.000000</td>\n",
       "      <td>31.000000</td>\n",
       "    </tr>\n",
       "    <tr>\n",
       "      <th>max</th>\n",
       "      <td>891.000000</td>\n",
       "      <td>1.000000</td>\n",
       "      <td>3.000000</td>\n",
       "      <td>80.000000</td>\n",
       "      <td>8.000000</td>\n",
       "      <td>6.000000</td>\n",
       "      <td>512.329200</td>\n",
       "    </tr>\n",
       "  </tbody>\n",
       "</table>\n",
       "</div>"
      ],
      "text/plain": [
       "       PassengerId    Survived      Pclass         Age       SibSp  \\\n",
       "count   891.000000  891.000000  891.000000  714.000000  891.000000   \n",
       "mean    446.000000    0.383838    2.308642   29.699118    0.523008   \n",
       "std     257.353842    0.486592    0.836071   14.526497    1.102743   \n",
       "min       1.000000    0.000000    1.000000    0.420000    0.000000   \n",
       "25%     223.500000    0.000000    2.000000   20.125000    0.000000   \n",
       "50%     446.000000    0.000000    3.000000   28.000000    0.000000   \n",
       "75%     668.500000    1.000000    3.000000   38.000000    1.000000   \n",
       "max     891.000000    1.000000    3.000000   80.000000    8.000000   \n",
       "\n",
       "            Parch        Fare  \n",
       "count  891.000000  891.000000  \n",
       "mean     0.381594   32.204208  \n",
       "std      0.806057   49.693429  \n",
       "min      0.000000    0.000000  \n",
       "25%      0.000000    7.910400  \n",
       "50%      0.000000   14.454200  \n",
       "75%      0.000000   31.000000  \n",
       "max      6.000000  512.329200  "
      ]
     },
     "execution_count": 2,
     "metadata": {},
     "output_type": "execute_result"
    }
   ],
   "source": [
    "df.describe()"
   ]
  },
  {
   "cell_type": "code",
   "execution_count": 3,
   "metadata": {},
   "outputs": [
    {
     "data": {
      "text/html": [
       "<div>\n",
       "<style scoped>\n",
       "    .dataframe tbody tr th:only-of-type {\n",
       "        vertical-align: middle;\n",
       "    }\n",
       "\n",
       "    .dataframe tbody tr th {\n",
       "        vertical-align: top;\n",
       "    }\n",
       "\n",
       "    .dataframe thead th {\n",
       "        text-align: right;\n",
       "    }\n",
       "</style>\n",
       "<table border=\"1\" class=\"dataframe\">\n",
       "  <thead>\n",
       "    <tr style=\"text-align: right;\">\n",
       "      <th></th>\n",
       "      <th>Name</th>\n",
       "      <th>Sex</th>\n",
       "      <th>Ticket</th>\n",
       "      <th>Cabin</th>\n",
       "      <th>Embarked</th>\n",
       "    </tr>\n",
       "  </thead>\n",
       "  <tbody>\n",
       "    <tr>\n",
       "      <th>count</th>\n",
       "      <td>891</td>\n",
       "      <td>891</td>\n",
       "      <td>891</td>\n",
       "      <td>204</td>\n",
       "      <td>889</td>\n",
       "    </tr>\n",
       "    <tr>\n",
       "      <th>unique</th>\n",
       "      <td>891</td>\n",
       "      <td>2</td>\n",
       "      <td>681</td>\n",
       "      <td>147</td>\n",
       "      <td>3</td>\n",
       "    </tr>\n",
       "    <tr>\n",
       "      <th>top</th>\n",
       "      <td>Braund, Mr. Owen Harris</td>\n",
       "      <td>male</td>\n",
       "      <td>347082</td>\n",
       "      <td>B96 B98</td>\n",
       "      <td>S</td>\n",
       "    </tr>\n",
       "    <tr>\n",
       "      <th>freq</th>\n",
       "      <td>1</td>\n",
       "      <td>577</td>\n",
       "      <td>7</td>\n",
       "      <td>4</td>\n",
       "      <td>644</td>\n",
       "    </tr>\n",
       "  </tbody>\n",
       "</table>\n",
       "</div>"
      ],
      "text/plain": [
       "                           Name   Sex  Ticket    Cabin Embarked\n",
       "count                       891   891     891      204      889\n",
       "unique                      891     2     681      147        3\n",
       "top     Braund, Mr. Owen Harris  male  347082  B96 B98        S\n",
       "freq                          1   577       7        4      644"
      ]
     },
     "execution_count": 3,
     "metadata": {},
     "output_type": "execute_result"
    }
   ],
   "source": [
    "df.describe(include='object')"
   ]
  },
  {
   "cell_type": "code",
   "execution_count": 4,
   "metadata": {},
   "outputs": [
    {
     "data": {
      "text/plain": [
       "<Axes: >"
      ]
     },
     "execution_count": 4,
     "metadata": {},
     "output_type": "execute_result"
    },
    {
     "data": {
      "image/png": "[encoded data removed]",
      "text/plain": [
       "<Figure size 640x480 with 1 Axes>"
      ]
     },
     "metadata": {},
     "output_type": "display_data"
    }
   ],
   "source": [
    "# check the label to see if there's any class imbalance\n",
    "df['Survived'].value_counts().plot(kind='bar')"
   ]
  },
  {
   "cell_type": "markdown",
   "metadata": {},
   "source": [
    "## Cleaning Data"
   ]
  },
  {
   "cell_type": "code",
   "execution_count": 5,
   "metadata": {},
   "outputs": [],
   "source": [
    "import math\n",
    "import numpy as np\n",
    "import matplotlib.pyplot as plt\n",
    "import seaborn as sns"
   ]
  },
  {
   "cell_type": "markdown",
   "metadata": {},
   "source": [
    "### Treating age\n",
    "\n",
    "Based on the histogram, as the distribution looks normal, we can impute the missing value to mean."
   ]
  },
  {
   "cell_type": "code",
   "execution_count": 6,
   "metadata": {},
   "outputs": [
    {
     "data": {
      "text/plain": [
       "count    714.000000\n",
       "mean      29.699118\n",
       "std       14.526497\n",
       "min        0.420000\n",
       "25%       20.125000\n",
       "50%       28.000000\n",
       "75%       38.000000\n",
       "max       80.000000\n",
       "Name: Age, dtype: float64"
      ]
     },
     "execution_count": 6,
     "metadata": {},
     "output_type": "execute_result"
    },
    {
     "data": {
      "image/png": "[encoded data removed]",
      "text/plain": [
       "<Figure size 640x480 with 1 Axes>"
      ]
     },
     "metadata": {},
     "output_type": "display_data"
    }
   ],
   "source": [
    "# display whether the age variable is normal or not\n",
    "\n",
    "df['Age'].hist()\n",
    "df['Age'].describe()"
   ]
  },
  {
   "cell_type": "code",
   "execution_count": 7,
   "metadata": {},
   "outputs": [],
   "source": [
    "# impute Age with the column mean\n",
    "\n",
    "df['Age'].fillna(df['Age'].mean(), inplace=True)"
   ]
  },
  {
   "cell_type": "markdown",
   "metadata": {},
   "source": [
    "### Treating cabin\n",
    "\n",
    "Looking from the exploration below, based on:\n",
    "\n",
    "- Number of missing value\n",
    "- Unique value it has\n",
    "- Might be likely categorized as MCAR (Missing at Completely Random)\n",
    "\n",
    "we might omit the cabin variable even though it might be one of the important variables."
   ]
  },
  {
   "cell_type": "code",
   "execution_count": 8,
   "metadata": {},
   "outputs": [
    {
     "data": {
      "text/plain": [
       "<Axes: xlabel='Cabin_letter', ylabel='Fare'>"
      ]
     },
     "execution_count": 8,
     "metadata": {},
     "output_type": "execute_result"
    },
    {
     "data": {
      "image/png": "[encoded data removed]",
      "text/plain": [
       "<Figure size 640x480 with 1 Axes>"
      ]
     },
     "metadata": {},
     "output_type": "display_data"
    }
   ],
   "source": [
    "def only_letter(input):\n",
    "    if pd.isna(input):\n",
    "        return np.nan\n",
    "    else:\n",
    "        return input[0]\n",
    "\n",
    "# create a variable for cabin letter\n",
    "df['Cabin_letter'] = df['Cabin'].map(only_letter)\n",
    "\n",
    "# to check whether the missing data due to randomness\n",
    "# by checking correlation between cabin letter location and the price of the ticket\n",
    "sns.boxplot(x=df[~df['Cabin_letter'].isna()]['Cabin_letter'], y=df[~df['Cabin_letter'].isna()]['Fare'])"
   ]
  },
  {
   "cell_type": "markdown",
   "metadata": {},
   "source": [
    "### Treating Embarked\n",
    "\n",
    "We only have 2 missing values, thus we can go by imputing the value with the mode."
   ]
  },
  {
   "cell_type": "code",
   "execution_count": 9,
   "metadata": {},
   "outputs": [
    {
     "data": {
      "text/plain": [
       "<BarContainer object of 3 artists>"
      ]
     },
     "execution_count": 9,
     "metadata": {},
     "output_type": "execute_result"
    },
    {
     "data": {
      "image/png": "[encoded data removed]",
      "text/plain": [
       "<Figure size 640x480 with 1 Axes>"
      ]
     },
     "metadata": {},
     "output_type": "display_data"
    }
   ],
   "source": [
    "plt.bar(x=df['Embarked'].value_counts().index, height=df['Embarked'].value_counts())"
   ]
  },
  {
   "cell_type": "code",
   "execution_count": 10,
   "metadata": {},
   "outputs": [],
   "source": [
    "# imputing missing value with the mode\n",
    "\n",
    "df['Embarked'].fillna(df['Embarked'].mode()[0], inplace=True) "
   ]
  },
  {
   "cell_type": "markdown",
   "metadata": {},
   "source": []
  },
  {
   "cell_type": "markdown",
   "metadata": {},
   "source": [
    "# Preprocessing and Train the Model Using Scikit-learn + Tensorflow"
   ]
  },
  {
   "cell_type": "markdown",
   "metadata": {},
   "source": [
    "## Preprocessing the Data"
   ]
  },
  {
   "cell_type": "code",
   "execution_count": 11,
   "metadata": {},
   "outputs": [],
   "source": [
    "# convert all columns into lowercase\n",
    "df.columns = df.columns.map(str.lower)\n",
    "\n",
    "# only taking columns for the model\n",
    "df = df[['survived', 'pclass', 'sex', 'age', 'sibsp', 'parch', 'fare', 'embarked']]"
   ]
  },
  {
   "cell_type": "code",
   "execution_count": 49,
   "metadata": {},
   "outputs": [
    {
     "name": "stdout",
     "output_type": "stream",
     "text": [
      "[array([1, 2, 3]), array(['female', 'male'], dtype=object), array(['C', 'Q', 'S'], dtype=object)]\n"
     ]
    },
    {
     "name": "stderr",
     "output_type": "stream",
     "text": [
      "/Users/taufiqurrohman/anaconda3/lib/python3.10/site-packages/sklearn/preprocessing/_encoders.py:828: FutureWarning: `sparse` was renamed to `sparse_output` in version 1.2 and will be removed in 1.4. `sparse_output` is ignored unless you leave `sparse` to its default value.\n",
      "  warnings.warn(\n"
     ]
    },
    {
     "data": {
      "text/plain": [
       "['preprocessing/encoder_1.0/encoder.joblib']"
      ]
     },
     "execution_count": 49,
     "metadata": {},
     "output_type": "execute_result"
    }
   ],
   "source": [
    "from sklearn.preprocessing import OneHotEncoder\n",
    "\n",
    "import os\n",
    "import joblib\n",
    "\n",
    "cat_cols = ['pclass', 'sex', 'embarked']\n",
    "num_cols = ['age', 'fare', 'sibsp', 'parch']\n",
    "\n",
    "encoder = OneHotEncoder(sparse=False)\n",
    "encoded_features = encoder.fit_transform(df[cat_cols])\n",
    "\n",
    "# save the encoder preprocessing the data in the deployment pipeline\n",
    "\n",
    "print(encoder.categories_)                      # check if the encoder has been fitted properly\n",
    "path = f'preprocessing/encoder_{model_ver}'     # save the encoder using joblib, library to save and load python objects\n",
    "os.makedirs(path, exist_ok=True)                # create the path directory if it doesn't exist yet\n",
    "joblib.dump(encoder, path + '/encoder.joblib')"
   ]
  },
  {
   "cell_type": "code",
   "execution_count": 13,
   "metadata": {},
   "outputs": [],
   "source": [
    "# wrap it into a function\n",
    "# for dataframe\n",
    "def preprocess_dataframe(df:pd.DataFrame):\n",
    "    \n",
    "    df.columns = df.columns.map(str.lower)\n",
    "    df = df[['pclass', 'sex', 'age', 'sibsp', 'parch', 'fare', 'embarked']]\n",
    "\n",
    "    cat_cols = ['pclass', 'sex', 'embarked']\n",
    "    num_cols = ['age', 'fare', 'sibsp', 'parch']\n",
    "\n",
    "    encoder = OneHotEncoder(sparse=False)\n",
    "    encoded_features = encoder.fit_transform(df[cat_cols])\n",
    "\n",
    "    x = np.concatenate([df[num_cols], encoded_features], axis=1)\n",
    "\n",
    "    return x"
   ]
  },
  {
   "cell_type": "code",
   "execution_count": 48,
   "metadata": {},
   "outputs": [
    {
     "data": {
      "text/html": [
       "<style>#sk-container-id-10 {color: black;background-color: white;}#sk-container-id-10 pre{padding: 0;}#sk-container-id-10 div.sk-toggleable {background-color: white;}#sk-container-id-10 label.sk-toggleable__label {cursor: pointer;display: block;width: 100%;margin-bottom: 0;padding: 0.3em;box-sizing: border-box;text-align: center;}#sk-container-id-10 label.sk-toggleable__label-arrow:before {content: \"▸\";float: left;margin-right: 0.25em;color: #696969;}#sk-container-id-10 label.sk-toggleable__label-arrow:hover:before {color: black;}#sk-container-id-10 div.sk-estimator:hover label.sk-toggleable__label-arrow:before {color: black;}#sk-container-id-10 div.sk-toggleable__content {max-height: 0;max-width: 0;overflow: hidden;text-align: left;background-color: #f0f8ff;}#sk-container-id-10 div.sk-toggleable__content pre {margin: 0.2em;color: black;border-radius: 0.25em;background-color: #f0f8ff;}#sk-container-id-10 input.sk-toggleable__control:checked~div.sk-toggleable__content {max-height: 200px;max-width: 100%;overflow: auto;}#sk-container-id-10 input.sk-toggleable__control:checked~label.sk-toggleable__label-arrow:before {content: \"▾\";}#sk-container-id-10 div.sk-estimator input.sk-toggleable__control:checked~label.sk-toggleable__label {background-color: #d4ebff;}#sk-container-id-10 div.sk-label input.sk-toggleable__control:checked~label.sk-toggleable__label {background-color: #d4ebff;}#sk-container-id-10 input.sk-hidden--visually {border: 0;clip: rect(1px 1px 1px 1px);clip: rect(1px, 1px, 1px, 1px);height: 1px;margin: -1px;overflow: hidden;padding: 0;position: absolute;width: 1px;}#sk-container-id-10 div.sk-estimator {font-family: monospace;background-color: #f0f8ff;border: 1px dotted black;border-radius: 0.25em;box-sizing: border-box;margin-bottom: 0.5em;}#sk-container-id-10 div.sk-estimator:hover {background-color: #d4ebff;}#sk-container-id-10 div.sk-parallel-item::after {content: \"\";width: 100%;border-bottom: 1px solid gray;flex-grow: 1;}#sk-container-id-10 div.sk-label:hover label.sk-toggleable__label {background-color: #d4ebff;}#sk-container-id-10 div.sk-serial::before {content: \"\";position: absolute;border-left: 1px solid gray;box-sizing: border-box;top: 0;bottom: 0;left: 50%;z-index: 0;}#sk-container-id-10 div.sk-serial {display: flex;flex-direction: column;align-items: center;background-color: white;padding-right: 0.2em;padding-left: 0.2em;position: relative;}#sk-container-id-10 div.sk-item {position: relative;z-index: 1;}#sk-container-id-10 div.sk-parallel {display: flex;align-items: stretch;justify-content: center;background-color: white;position: relative;}#sk-container-id-10 div.sk-item::before, #sk-container-id-10 div.sk-parallel-item::before {content: \"\";position: absolute;border-left: 1px solid gray;box-sizing: border-box;top: 0;bottom: 0;left: 50%;z-index: -1;}#sk-container-id-10 div.sk-parallel-item {display: flex;flex-direction: column;z-index: 1;position: relative;background-color: white;}#sk-container-id-10 div.sk-parallel-item:first-child::after {align-self: flex-end;width: 50%;}#sk-container-id-10 div.sk-parallel-item:last-child::after {align-self: flex-start;width: 50%;}#sk-container-id-10 div.sk-parallel-item:only-child::after {width: 0;}#sk-container-id-10 div.sk-dashed-wrapped {border: 1px dashed gray;margin: 0 0.4em 0.5em 0.4em;box-sizing: border-box;padding-bottom: 0.4em;background-color: white;}#sk-container-id-10 div.sk-label label {font-family: monospace;font-weight: bold;display: inline-block;line-height: 1.2em;}#sk-container-id-10 div.sk-label-container {text-align: center;}#sk-container-id-10 div.sk-container {/* jupyter's `normalize.less` sets `[hidden] { display: none; }` but bootstrap.min.css set `[hidden] { display: none !important; }` so we also need the `!important` here to be able to override the default hidden behavior on the sphinx rendered scikit-learn.org. See: https://github.com/scikit-learn/scikit-learn/issues/21755 */display: inline-block !important;position: relative;}#sk-container-id-10 div.sk-text-repr-fallback {display: none;}</style><div id=\"sk-container-id-10\" class=\"sk-top-container\"><div class=\"sk-text-repr-fallback\"><pre>OneHotEncoder(sparse=False, sparse_output=False)</pre><b>In a Jupyter environment, please rerun this cell to show the HTML representation or trust the notebook. <br />On GitHub, the HTML representation is unable to render, please try loading this page with nbviewer.org.</b></div><div class=\"sk-container\" hidden><div class=\"sk-item\"><div class=\"sk-estimator sk-toggleable\"><input class=\"sk-toggleable__control sk-hidden--visually\" id=\"sk-estimator-id-10\" type=\"checkbox\" checked><label for=\"sk-estimator-id-10\" class=\"sk-toggleable__label sk-toggleable__label-arrow\">OneHotEncoder</label><div class=\"sk-toggleable__content\"><pre>OneHotEncoder(sparse=False, sparse_output=False)</pre></div></div></div></div></div>"
      ],
      "text/plain": [
       "OneHotEncoder(sparse=False, sparse_output=False)"
      ]
     },
     "execution_count": 48,
     "metadata": {},
     "output_type": "execute_result"
    }
   ],
   "source": [
    "encoder"
   ]
  },
  {
   "cell_type": "code",
   "execution_count": 47,
   "metadata": {},
   "outputs": [
    {
     "data": {
      "text/plain": [
       "array([0., 0., 1., 0., 1., 0., 0., 1.])"
      ]
     },
     "execution_count": 47,
     "metadata": {},
     "output_type": "execute_result"
    }
   ],
   "source": [
    "encoded_features[0]"
   ]
  },
  {
   "cell_type": "markdown",
   "metadata": {},
   "source": [
    "## Build and Train the Model"
   ]
  },
  {
   "cell_type": "markdown",
   "metadata": {},
   "source": [
    "### Using scikit-learn + tensorflow library"
   ]
  },
  {
   "cell_type": "code",
   "execution_count": 43,
   "metadata": {},
   "outputs": [],
   "source": [
    "import tensorflow as tf \n",
    "from sklearn.model_selection import train_test_split\n",
    "\n",
    "# define predictor and our label\n",
    "# tf.keras only accepts numpy array and tensorflow dataset as the input\n",
    "x_train = np.concatenate([df[num_cols], encoded_features], axis=1)\n",
    "y_train = df['survived'].values"
   ]
  },
  {
   "cell_type": "code",
   "execution_count": 441,
   "metadata": {},
   "outputs": [
    {
     "name": "stdout",
     "output_type": "stream",
     "text": [
      "Epoch 1/1000\n",
      "23/23 [==============================] - 0s 3ms/step - loss: 1.7897 - accuracy: 0.5239 - val_loss: 0.6401 - val_accuracy: 0.7207\n",
      "Epoch 2/1000\n",
      "23/23 [==============================] - 0s 1ms/step - loss: 0.6878 - accuracy: 0.6559 - val_loss: 0.6028 - val_accuracy: 0.6927\n",
      "Epoch 3/1000\n",
      "23/23 [==============================] - 0s 1ms/step - loss: 0.6098 - accuracy: 0.6812 - val_loss: 0.5553 - val_accuracy: 0.7039\n",
      "Epoch 4/1000\n",
      "23/23 [==============================] - 0s 1ms/step - loss: 0.6071 - accuracy: 0.6952 - val_loss: 0.5306 - val_accuracy: 0.7318\n",
      "Epoch 5/1000\n",
      "23/23 [==============================] - 0s 1ms/step - loss: 0.5888 - accuracy: 0.6812 - val_loss: 0.5064 - val_accuracy: 0.7598\n",
      "Epoch 6/1000\n",
      "23/23 [==============================] - 0s 1ms/step - loss: 0.5679 - accuracy: 0.7135 - val_loss: 0.4862 - val_accuracy: 0.7430\n",
      "Epoch 7/1000\n",
      "23/23 [==============================] - 0s 997us/step - loss: 0.5658 - accuracy: 0.7121 - val_loss: 0.4852 - val_accuracy: 0.7765\n",
      "Epoch 8/1000\n",
      "23/23 [==============================] - 0s 980us/step - loss: 0.5669 - accuracy: 0.7275 - val_loss: 0.5685 - val_accuracy: 0.7430\n",
      "Epoch 9/1000\n",
      "23/23 [==============================] - 0s 993us/step - loss: 0.5894 - accuracy: 0.7247 - val_loss: 0.5074 - val_accuracy: 0.7765\n",
      "Epoch 10/1000\n",
      "23/23 [==============================] - 0s 984us/step - loss: 0.5348 - accuracy: 0.7570 - val_loss: 0.4696 - val_accuracy: 0.7709\n",
      "Epoch 11/1000\n",
      "23/23 [==============================] - 0s 2ms/step - loss: 0.5415 - accuracy: 0.7317 - val_loss: 0.4825 - val_accuracy: 0.7821\n",
      "Epoch 12/1000\n",
      "23/23 [==============================] - 0s 1ms/step - loss: 0.5597 - accuracy: 0.7472 - val_loss: 0.4251 - val_accuracy: 0.7989\n",
      "Epoch 13/1000\n",
      "23/23 [==============================] - 0s 1ms/step - loss: 0.5213 - accuracy: 0.7739 - val_loss: 0.4331 - val_accuracy: 0.8045\n",
      "Epoch 14/1000\n",
      "23/23 [==============================] - 0s 1ms/step - loss: 0.4966 - accuracy: 0.7626 - val_loss: 0.4205 - val_accuracy: 0.8101\n",
      "Epoch 15/1000\n",
      "23/23 [==============================] - 0s 1ms/step - loss: 0.5346 - accuracy: 0.7430 - val_loss: 0.4085 - val_accuracy: 0.8101\n",
      "Epoch 16/1000\n",
      "23/23 [==============================] - 0s 1ms/step - loss: 0.5126 - accuracy: 0.7823 - val_loss: 0.4076 - val_accuracy: 0.8324\n",
      "Epoch 17/1000\n",
      "23/23 [==============================] - 0s 1ms/step - loss: 0.4859 - accuracy: 0.7935 - val_loss: 0.4193 - val_accuracy: 0.8101\n",
      "Epoch 18/1000\n",
      "23/23 [==============================] - 0s 967us/step - loss: 0.4745 - accuracy: 0.7879 - val_loss: 0.4251 - val_accuracy: 0.7933\n",
      "Epoch 19/1000\n",
      "23/23 [==============================] - 0s 1ms/step - loss: 0.4877 - accuracy: 0.7739 - val_loss: 0.4305 - val_accuracy: 0.7989\n",
      "Epoch 20/1000\n",
      "23/23 [==============================] - 0s 1ms/step - loss: 0.4994 - accuracy: 0.7711 - val_loss: 0.3902 - val_accuracy: 0.8212\n",
      "Epoch 21/1000\n",
      "23/23 [==============================] - 0s 1ms/step - loss: 0.5220 - accuracy: 0.7823 - val_loss: 0.3805 - val_accuracy: 0.8492\n",
      "Epoch 22/1000\n",
      "23/23 [==============================] - 0s 978us/step - loss: 0.4848 - accuracy: 0.7823 - val_loss: 0.3829 - val_accuracy: 0.8212\n",
      "Epoch 23/1000\n",
      "23/23 [==============================] - 0s 1ms/step - loss: 0.4715 - accuracy: 0.7935 - val_loss: 0.4076 - val_accuracy: 0.8045\n",
      "Epoch 24/1000\n",
      "23/23 [==============================] - 0s 1ms/step - loss: 0.5104 - accuracy: 0.7781 - val_loss: 0.4591 - val_accuracy: 0.7709\n",
      "Epoch 25/1000\n",
      "23/23 [==============================] - 0s 967us/step - loss: 0.4749 - accuracy: 0.7963 - val_loss: 0.4487 - val_accuracy: 0.7989\n",
      "Epoch 26/1000\n",
      "23/23 [==============================] - 0s 991us/step - loss: 0.4842 - accuracy: 0.7879 - val_loss: 0.4297 - val_accuracy: 0.8101\n",
      "Epoch 27/1000\n",
      "23/23 [==============================] - 0s 993us/step - loss: 0.4793 - accuracy: 0.7851 - val_loss: 0.4720 - val_accuracy: 0.7989\n",
      "Epoch 28/1000\n",
      "23/23 [==============================] - 0s 968us/step - loss: 0.4517 - accuracy: 0.7935 - val_loss: 0.3824 - val_accuracy: 0.8436\n",
      "Epoch 29/1000\n",
      "23/23 [==============================] - 0s 966us/step - loss: 0.4525 - accuracy: 0.8146 - val_loss: 0.4338 - val_accuracy: 0.7877\n",
      "Epoch 30/1000\n",
      "23/23 [==============================] - 0s 985us/step - loss: 0.4757 - accuracy: 0.7893 - val_loss: 0.3940 - val_accuracy: 0.8156\n",
      "Epoch 31/1000\n",
      "23/23 [==============================] - 0s 973us/step - loss: 0.4600 - accuracy: 0.7837 - val_loss: 0.3928 - val_accuracy: 0.8212\n",
      "Epoch 32/1000\n",
      "23/23 [==============================] - 0s 996us/step - loss: 0.4523 - accuracy: 0.7921 - val_loss: 0.4313 - val_accuracy: 0.7989\n",
      "Epoch 33/1000\n",
      "23/23 [==============================] - 0s 999us/step - loss: 0.4609 - accuracy: 0.7992 - val_loss: 0.3712 - val_accuracy: 0.8492\n",
      "Epoch 34/1000\n",
      "23/23 [==============================] - 0s 983us/step - loss: 0.4537 - accuracy: 0.7949 - val_loss: 0.3855 - val_accuracy: 0.8492\n",
      "Epoch 35/1000\n",
      "23/23 [==============================] - 0s 969us/step - loss: 0.4528 - accuracy: 0.7978 - val_loss: 0.3792 - val_accuracy: 0.8268\n",
      "Epoch 36/1000\n",
      "23/23 [==============================] - 0s 1ms/step - loss: 0.4689 - accuracy: 0.8020 - val_loss: 0.3717 - val_accuracy: 0.8436\n",
      "Epoch 37/1000\n",
      "23/23 [==============================] - 0s 979us/step - loss: 0.4605 - accuracy: 0.7907 - val_loss: 0.4158 - val_accuracy: 0.8268\n",
      "Epoch 38/1000\n",
      "23/23 [==============================] - 0s 986us/step - loss: 0.4573 - accuracy: 0.8104 - val_loss: 0.3747 - val_accuracy: 0.8492\n",
      "Epoch 39/1000\n",
      "23/23 [==============================] - 0s 2ms/step - loss: 0.4473 - accuracy: 0.7978 - val_loss: 0.3740 - val_accuracy: 0.8156\n",
      "Epoch 40/1000\n",
      "23/23 [==============================] - 0s 1ms/step - loss: 0.4437 - accuracy: 0.7992 - val_loss: 0.3631 - val_accuracy: 0.8380\n",
      "Epoch 41/1000\n",
      "23/23 [==============================] - 0s 968us/step - loss: 0.4572 - accuracy: 0.7879 - val_loss: 0.3578 - val_accuracy: 0.8324\n",
      "Epoch 42/1000\n",
      "23/23 [==============================] - 0s 946us/step - loss: 0.4764 - accuracy: 0.7865 - val_loss: 0.3775 - val_accuracy: 0.8268\n",
      "Epoch 43/1000\n",
      "23/23 [==============================] - 0s 978us/step - loss: 0.4577 - accuracy: 0.7893 - val_loss: 0.3865 - val_accuracy: 0.8212\n",
      "Epoch 44/1000\n",
      "23/23 [==============================] - 0s 973us/step - loss: 0.4504 - accuracy: 0.8062 - val_loss: 0.4726 - val_accuracy: 0.8101\n",
      "Epoch 45/1000\n",
      "23/23 [==============================] - 0s 1ms/step - loss: 0.4641 - accuracy: 0.7949 - val_loss: 0.3773 - val_accuracy: 0.8547\n",
      "Epoch 46/1000\n",
      "23/23 [==============================] - 0s 969us/step - loss: 0.4425 - accuracy: 0.8034 - val_loss: 0.4034 - val_accuracy: 0.8268\n",
      "Epoch 47/1000\n",
      "23/23 [==============================] - 0s 936us/step - loss: 0.4552 - accuracy: 0.7879 - val_loss: 0.4373 - val_accuracy: 0.8045\n",
      "Epoch 48/1000\n",
      "23/23 [==============================] - 0s 951us/step - loss: 0.4736 - accuracy: 0.8048 - val_loss: 0.4585 - val_accuracy: 0.8156\n",
      "Epoch 49/1000\n",
      "23/23 [==============================] - 0s 996us/step - loss: 0.4893 - accuracy: 0.7795 - val_loss: 0.3690 - val_accuracy: 0.8212\n",
      "Epoch 50/1000\n",
      "23/23 [==============================] - 0s 967us/step - loss: 0.4490 - accuracy: 0.7978 - val_loss: 0.3713 - val_accuracy: 0.8492\n",
      "Epoch 51/1000\n",
      "23/23 [==============================] - 0s 961us/step - loss: 0.4540 - accuracy: 0.7809 - val_loss: 0.4036 - val_accuracy: 0.8324\n",
      "Epoch 52/1000\n",
      "23/23 [==============================] - 0s 988us/step - loss: 0.4503 - accuracy: 0.8048 - val_loss: 0.3563 - val_accuracy: 0.8436\n",
      "Epoch 53/1000\n",
      "23/23 [==============================] - 0s 974us/step - loss: 0.4681 - accuracy: 0.7879 - val_loss: 0.3674 - val_accuracy: 0.8324\n",
      "Epoch 54/1000\n",
      "23/23 [==============================] - 0s 982us/step - loss: 0.4670 - accuracy: 0.7921 - val_loss: 0.4641 - val_accuracy: 0.8212\n",
      "Epoch 55/1000\n",
      "23/23 [==============================] - 0s 991us/step - loss: 0.4517 - accuracy: 0.8020 - val_loss: 0.3998 - val_accuracy: 0.8324\n",
      "Epoch 56/1000\n",
      "23/23 [==============================] - 0s 973us/step - loss: 0.4238 - accuracy: 0.8020 - val_loss: 0.3513 - val_accuracy: 0.8380\n",
      "Epoch 57/1000\n",
      "23/23 [==============================] - 0s 974us/step - loss: 0.4365 - accuracy: 0.8020 - val_loss: 0.3556 - val_accuracy: 0.8492\n",
      "Epoch 58/1000\n",
      "23/23 [==============================] - 0s 1ms/step - loss: 0.4504 - accuracy: 0.7978 - val_loss: 0.3765 - val_accuracy: 0.8212\n",
      "Epoch 59/1000\n",
      "23/23 [==============================] - 0s 996us/step - loss: 0.4467 - accuracy: 0.7992 - val_loss: 0.3461 - val_accuracy: 0.8436\n",
      "Epoch 60/1000\n",
      "23/23 [==============================] - 0s 995us/step - loss: 0.4352 - accuracy: 0.8132 - val_loss: 0.3985 - val_accuracy: 0.8212\n",
      "Epoch 61/1000\n",
      "23/23 [==============================] - 0s 1ms/step - loss: 0.4579 - accuracy: 0.7893 - val_loss: 0.3697 - val_accuracy: 0.8324\n",
      "Epoch 62/1000\n",
      "23/23 [==============================] - 0s 967us/step - loss: 0.4309 - accuracy: 0.8062 - val_loss: 0.3801 - val_accuracy: 0.8380\n",
      "Epoch 63/1000\n",
      "23/23 [==============================] - 0s 989us/step - loss: 0.4366 - accuracy: 0.7865 - val_loss: 0.3848 - val_accuracy: 0.8380\n",
      "Epoch 64/1000\n",
      "23/23 [==============================] - 0s 974us/step - loss: 0.4213 - accuracy: 0.8132 - val_loss: 0.3452 - val_accuracy: 0.8268\n",
      "Epoch 65/1000\n",
      "23/23 [==============================] - 0s 972us/step - loss: 0.4538 - accuracy: 0.7978 - val_loss: 0.3530 - val_accuracy: 0.8436\n",
      "Epoch 66/1000\n",
      "23/23 [==============================] - 0s 1ms/step - loss: 0.7208 - accuracy: 0.7444 - val_loss: 0.5604 - val_accuracy: 0.7486\n",
      "Epoch 67/1000\n",
      "23/23 [==============================] - 0s 973us/step - loss: 0.5036 - accuracy: 0.7640 - val_loss: 0.3947 - val_accuracy: 0.8045\n",
      "Epoch 68/1000\n",
      "23/23 [==============================] - 0s 969us/step - loss: 0.4394 - accuracy: 0.8062 - val_loss: 0.3723 - val_accuracy: 0.8268\n",
      "Epoch 69/1000\n",
      "23/23 [==============================] - 0s 958us/step - loss: 0.4375 - accuracy: 0.8034 - val_loss: 0.3601 - val_accuracy: 0.8380\n",
      "Epoch 70/1000\n",
      "23/23 [==============================] - 0s 1ms/step - loss: 0.4167 - accuracy: 0.8118 - val_loss: 0.3637 - val_accuracy: 0.8436\n",
      "Epoch 71/1000\n",
      "23/23 [==============================] - 0s 1ms/step - loss: 0.4328 - accuracy: 0.8076 - val_loss: 0.3486 - val_accuracy: 0.8547\n",
      "Epoch 72/1000\n",
      "23/23 [==============================] - 0s 1ms/step - loss: 0.4228 - accuracy: 0.8076 - val_loss: 0.3875 - val_accuracy: 0.8212\n",
      "Epoch 73/1000\n",
      "23/23 [==============================] - 0s 992us/step - loss: 0.4246 - accuracy: 0.8202 - val_loss: 0.3416 - val_accuracy: 0.8380\n",
      "Epoch 74/1000\n",
      "23/23 [==============================] - 0s 981us/step - loss: 0.4156 - accuracy: 0.8076 - val_loss: 0.4183 - val_accuracy: 0.8156\n",
      "Epoch 75/1000\n",
      "23/23 [==============================] - 0s 984us/step - loss: 0.4501 - accuracy: 0.7935 - val_loss: 0.3947 - val_accuracy: 0.8324\n",
      "Epoch 76/1000\n",
      "23/23 [==============================] - 0s 968us/step - loss: 0.4545 - accuracy: 0.8048 - val_loss: 0.3769 - val_accuracy: 0.8268\n",
      "Epoch 77/1000\n",
      "23/23 [==============================] - 0s 964us/step - loss: 0.4291 - accuracy: 0.8048 - val_loss: 0.3421 - val_accuracy: 0.8715\n",
      "Epoch 78/1000\n",
      "23/23 [==============================] - 0s 1ms/step - loss: 0.4158 - accuracy: 0.8202 - val_loss: 0.3560 - val_accuracy: 0.8492\n",
      "Epoch 79/1000\n",
      "23/23 [==============================] - 0s 979us/step - loss: 0.4296 - accuracy: 0.8062 - val_loss: 0.3545 - val_accuracy: 0.8547\n",
      "Epoch 80/1000\n",
      "23/23 [==============================] - 0s 1ms/step - loss: 0.4184 - accuracy: 0.8146 - val_loss: 0.3653 - val_accuracy: 0.8324\n",
      "Epoch 81/1000\n",
      "23/23 [==============================] - 0s 968us/step - loss: 0.4086 - accuracy: 0.8146 - val_loss: 0.3485 - val_accuracy: 0.8547\n",
      "Epoch 82/1000\n",
      "23/23 [==============================] - 0s 986us/step - loss: 0.4233 - accuracy: 0.8062 - val_loss: 0.3450 - val_accuracy: 0.8380\n",
      "Epoch 83/1000\n",
      "23/23 [==============================] - 0s 1ms/step - loss: 0.4229 - accuracy: 0.8104 - val_loss: 0.3464 - val_accuracy: 0.8547\n",
      "Epoch 84/1000\n",
      "23/23 [==============================] - 0s 991us/step - loss: 0.4283 - accuracy: 0.8034 - val_loss: 0.3409 - val_accuracy: 0.8603\n",
      "Epoch 85/1000\n",
      "23/23 [==============================] - 0s 955us/step - loss: 0.4327 - accuracy: 0.8132 - val_loss: 0.4752 - val_accuracy: 0.8045\n",
      "Epoch 86/1000\n",
      "23/23 [==============================] - 0s 981us/step - loss: 0.4549 - accuracy: 0.8062 - val_loss: 0.3792 - val_accuracy: 0.8324\n",
      "Epoch 87/1000\n",
      "23/23 [==============================] - 0s 980us/step - loss: 0.4472 - accuracy: 0.7978 - val_loss: 0.4203 - val_accuracy: 0.8268\n",
      "Epoch 88/1000\n",
      "23/23 [==============================] - 0s 963us/step - loss: 0.4398 - accuracy: 0.8076 - val_loss: 0.3385 - val_accuracy: 0.8547\n",
      "Epoch 89/1000\n",
      "23/23 [==============================] - 0s 962us/step - loss: 0.4065 - accuracy: 0.8216 - val_loss: 0.3487 - val_accuracy: 0.8603\n",
      "Epoch 90/1000\n",
      "23/23 [==============================] - 0s 988us/step - loss: 0.4200 - accuracy: 0.8034 - val_loss: 0.3653 - val_accuracy: 0.8324\n",
      "Epoch 91/1000\n",
      "23/23 [==============================] - 0s 996us/step - loss: 0.4135 - accuracy: 0.8048 - val_loss: 0.3388 - val_accuracy: 0.8603\n",
      "Epoch 92/1000\n",
      "23/23 [==============================] - 0s 985us/step - loss: 0.4556 - accuracy: 0.7992 - val_loss: 0.3414 - val_accuracy: 0.8380\n",
      "Epoch 93/1000\n",
      "23/23 [==============================] - 0s 991us/step - loss: 0.4501 - accuracy: 0.8090 - val_loss: 0.3351 - val_accuracy: 0.8492\n",
      "Epoch 94/1000\n",
      "23/23 [==============================] - 0s 1ms/step - loss: 0.4071 - accuracy: 0.8272 - val_loss: 0.3379 - val_accuracy: 0.8547\n",
      "Epoch 95/1000\n",
      "23/23 [==============================] - 0s 1ms/step - loss: 0.4220 - accuracy: 0.8062 - val_loss: 0.3504 - val_accuracy: 0.8492\n",
      "Epoch 96/1000\n",
      "23/23 [==============================] - 0s 988us/step - loss: 0.4171 - accuracy: 0.8076 - val_loss: 0.3377 - val_accuracy: 0.8492\n",
      "Epoch 97/1000\n",
      "23/23 [==============================] - 0s 1ms/step - loss: 0.3996 - accuracy: 0.8160 - val_loss: 0.3618 - val_accuracy: 0.8547\n",
      "Epoch 98/1000\n",
      "23/23 [==============================] - 0s 979us/step - loss: 0.3998 - accuracy: 0.8230 - val_loss: 0.3422 - val_accuracy: 0.8603\n",
      "Epoch 99/1000\n",
      "23/23 [==============================] - 0s 1ms/step - loss: 0.4063 - accuracy: 0.8244 - val_loss: 0.4327 - val_accuracy: 0.8324\n",
      "Epoch 100/1000\n",
      "23/23 [==============================] - 0s 1ms/step - loss: 0.4274 - accuracy: 0.7992 - val_loss: 0.3532 - val_accuracy: 0.8380\n",
      "Epoch 101/1000\n",
      "23/23 [==============================] - 0s 978us/step - loss: 0.4082 - accuracy: 0.8160 - val_loss: 0.3422 - val_accuracy: 0.8659\n",
      "Epoch 102/1000\n",
      "23/23 [==============================] - 0s 986us/step - loss: 0.4056 - accuracy: 0.8202 - val_loss: 0.3394 - val_accuracy: 0.8492\n",
      "Epoch 103/1000\n",
      "23/23 [==============================] - 0s 991us/step - loss: 0.4027 - accuracy: 0.8174 - val_loss: 0.3333 - val_accuracy: 0.8715\n",
      "Epoch 104/1000\n",
      "23/23 [==============================] - 0s 1ms/step - loss: 0.3984 - accuracy: 0.8216 - val_loss: 0.3581 - val_accuracy: 0.8547\n",
      "Epoch 105/1000\n",
      "23/23 [==============================] - 0s 989us/step - loss: 0.4156 - accuracy: 0.8146 - val_loss: 0.3430 - val_accuracy: 0.8436\n",
      "Epoch 106/1000\n",
      "23/23 [==============================] - 0s 974us/step - loss: 0.4204 - accuracy: 0.8118 - val_loss: 0.3552 - val_accuracy: 0.8547\n",
      "Epoch 107/1000\n",
      "23/23 [==============================] - 0s 994us/step - loss: 0.4043 - accuracy: 0.8160 - val_loss: 0.4100 - val_accuracy: 0.8324\n",
      "Epoch 108/1000\n",
      "23/23 [==============================] - 0s 991us/step - loss: 0.4830 - accuracy: 0.7893 - val_loss: 0.3884 - val_accuracy: 0.8436\n",
      "Epoch 109/1000\n",
      "23/23 [==============================] - 0s 970us/step - loss: 0.4219 - accuracy: 0.8230 - val_loss: 0.3506 - val_accuracy: 0.8659\n",
      "Epoch 110/1000\n",
      "23/23 [==============================] - 0s 984us/step - loss: 0.4000 - accuracy: 0.8174 - val_loss: 0.3465 - val_accuracy: 0.8492\n",
      "Epoch 111/1000\n",
      "23/23 [==============================] - 0s 982us/step - loss: 0.4113 - accuracy: 0.8174 - val_loss: 0.3347 - val_accuracy: 0.8492\n",
      "Epoch 112/1000\n",
      "23/23 [==============================] - 0s 970us/step - loss: 0.3939 - accuracy: 0.8258 - val_loss: 0.3472 - val_accuracy: 0.8603\n",
      "Epoch 113/1000\n",
      "23/23 [==============================] - 0s 989us/step - loss: 0.3940 - accuracy: 0.8301 - val_loss: 0.3476 - val_accuracy: 0.8324\n",
      "Epoch 114/1000\n",
      "23/23 [==============================] - 0s 973us/step - loss: 0.4369 - accuracy: 0.8034 - val_loss: 0.3497 - val_accuracy: 0.8324\n",
      "Epoch 115/1000\n",
      "23/23 [==============================] - 0s 971us/step - loss: 0.4137 - accuracy: 0.8146 - val_loss: 0.3513 - val_accuracy: 0.8659\n",
      "Epoch 116/1000\n",
      "23/23 [==============================] - 0s 941us/step - loss: 0.4038 - accuracy: 0.8188 - val_loss: 0.3303 - val_accuracy: 0.8547\n",
      "Epoch 117/1000\n",
      "23/23 [==============================] - 0s 975us/step - loss: 0.4030 - accuracy: 0.8202 - val_loss: 0.3630 - val_accuracy: 0.8603\n",
      "Epoch 118/1000\n",
      "23/23 [==============================] - 0s 973us/step - loss: 0.3929 - accuracy: 0.8174 - val_loss: 0.3511 - val_accuracy: 0.8436\n",
      "Epoch 119/1000\n",
      "23/23 [==============================] - 0s 981us/step - loss: 0.4515 - accuracy: 0.8104 - val_loss: 0.3329 - val_accuracy: 0.8380\n",
      "Epoch 120/1000\n",
      "23/23 [==============================] - 0s 947us/step - loss: 0.4019 - accuracy: 0.8244 - val_loss: 0.3384 - val_accuracy: 0.8603\n",
      "Epoch 121/1000\n",
      "23/23 [==============================] - 0s 2ms/step - loss: 0.3948 - accuracy: 0.8315 - val_loss: 0.3423 - val_accuracy: 0.8603\n",
      "Epoch 122/1000\n",
      "23/23 [==============================] - 0s 1ms/step - loss: 0.3993 - accuracy: 0.8230 - val_loss: 0.4145 - val_accuracy: 0.8380\n",
      "Epoch 123/1000\n",
      "23/23 [==============================] - 0s 992us/step - loss: 0.4737 - accuracy: 0.7893 - val_loss: 0.3326 - val_accuracy: 0.8436\n",
      "Epoch 124/1000\n",
      "23/23 [==============================] - 0s 973us/step - loss: 0.4036 - accuracy: 0.8118 - val_loss: 0.3752 - val_accuracy: 0.8436\n",
      "Epoch 125/1000\n",
      "23/23 [==============================] - 0s 1ms/step - loss: 0.4142 - accuracy: 0.8160 - val_loss: 0.3439 - val_accuracy: 0.8603\n",
      "Epoch 126/1000\n",
      "23/23 [==============================] - 0s 967us/step - loss: 0.3938 - accuracy: 0.8287 - val_loss: 0.3485 - val_accuracy: 0.8324\n",
      "Epoch 127/1000\n",
      "23/23 [==============================] - 0s 960us/step - loss: 0.4204 - accuracy: 0.8104 - val_loss: 0.4179 - val_accuracy: 0.8380\n",
      "Epoch 128/1000\n",
      "23/23 [==============================] - 0s 950us/step - loss: 0.4179 - accuracy: 0.8118 - val_loss: 0.3617 - val_accuracy: 0.8436\n",
      "Epoch 129/1000\n",
      "23/23 [==============================] - 0s 982us/step - loss: 0.3918 - accuracy: 0.8343 - val_loss: 0.3500 - val_accuracy: 0.8603\n",
      "Epoch 130/1000\n",
      "23/23 [==============================] - 0s 956us/step - loss: 0.3902 - accuracy: 0.8272 - val_loss: 0.3541 - val_accuracy: 0.8547\n",
      "Epoch 131/1000\n",
      "23/23 [==============================] - 0s 986us/step - loss: 0.3997 - accuracy: 0.8230 - val_loss: 0.3423 - val_accuracy: 0.8603\n",
      "Epoch 132/1000\n",
      "23/23 [==============================] - 0s 962us/step - loss: 0.3931 - accuracy: 0.8315 - val_loss: 0.3438 - val_accuracy: 0.8547\n",
      "Epoch 133/1000\n",
      "23/23 [==============================] - 0s 980us/step - loss: 0.4083 - accuracy: 0.8146 - val_loss: 0.3319 - val_accuracy: 0.8380\n",
      "Epoch 134/1000\n",
      "23/23 [==============================] - 0s 999us/step - loss: 0.4013 - accuracy: 0.8301 - val_loss: 0.3548 - val_accuracy: 0.8603\n",
      "Epoch 135/1000\n",
      "23/23 [==============================] - 0s 1ms/step - loss: 0.3996 - accuracy: 0.8287 - val_loss: 0.3372 - val_accuracy: 0.8436\n",
      "Epoch 136/1000\n",
      "23/23 [==============================] - 0s 977us/step - loss: 0.4242 - accuracy: 0.8034 - val_loss: 0.3619 - val_accuracy: 0.8324\n",
      "Epoch 137/1000\n",
      "23/23 [==============================] - 0s 1ms/step - loss: 0.4057 - accuracy: 0.8160 - val_loss: 0.3524 - val_accuracy: 0.8547\n",
      "Epoch 138/1000\n",
      "23/23 [==============================] - 0s 977us/step - loss: 0.3968 - accuracy: 0.8216 - val_loss: 0.3650 - val_accuracy: 0.8492\n",
      "Epoch 139/1000\n",
      "23/23 [==============================] - 0s 988us/step - loss: 0.3962 - accuracy: 0.8216 - val_loss: 0.3479 - val_accuracy: 0.8436\n",
      "Epoch 140/1000\n",
      "23/23 [==============================] - 0s 944us/step - loss: 0.3849 - accuracy: 0.8090 - val_loss: 0.3469 - val_accuracy: 0.8436\n",
      "Epoch 141/1000\n",
      "23/23 [==============================] - 0s 964us/step - loss: 0.3999 - accuracy: 0.8202 - val_loss: 0.3726 - val_accuracy: 0.8436\n",
      "Epoch 142/1000\n",
      "23/23 [==============================] - 0s 994us/step - loss: 0.3935 - accuracy: 0.8258 - val_loss: 0.3479 - val_accuracy: 0.8603\n",
      "Epoch 143/1000\n",
      "23/23 [==============================] - 0s 2ms/step - loss: 0.4222 - accuracy: 0.8202 - val_loss: 0.3506 - val_accuracy: 0.8324\n",
      "Epoch 144/1000\n",
      "23/23 [==============================] - 0s 984us/step - loss: 0.4090 - accuracy: 0.8329 - val_loss: 0.3391 - val_accuracy: 0.8603\n",
      "Epoch 145/1000\n",
      "23/23 [==============================] - 0s 971us/step - loss: 0.3906 - accuracy: 0.8329 - val_loss: 0.3328 - val_accuracy: 0.8547\n",
      "Epoch 146/1000\n",
      "23/23 [==============================] - 0s 1ms/step - loss: 0.3820 - accuracy: 0.8315 - val_loss: 0.3284 - val_accuracy: 0.8547\n",
      "Epoch 147/1000\n",
      "23/23 [==============================] - 0s 959us/step - loss: 0.3986 - accuracy: 0.8048 - val_loss: 0.3375 - val_accuracy: 0.8547\n",
      "Epoch 148/1000\n",
      "23/23 [==============================] - 0s 966us/step - loss: 0.3887 - accuracy: 0.8329 - val_loss: 0.3590 - val_accuracy: 0.8492\n",
      "Epoch 149/1000\n",
      "23/23 [==============================] - 0s 984us/step - loss: 0.3819 - accuracy: 0.8357 - val_loss: 0.3577 - val_accuracy: 0.8436\n",
      "Epoch 150/1000\n",
      "23/23 [==============================] - 0s 968us/step - loss: 0.3894 - accuracy: 0.8343 - val_loss: 0.3437 - val_accuracy: 0.8603\n",
      "Epoch 151/1000\n",
      "23/23 [==============================] - 0s 968us/step - loss: 0.3939 - accuracy: 0.8174 - val_loss: 0.3388 - val_accuracy: 0.8436\n",
      "Epoch 152/1000\n",
      "23/23 [==============================] - 0s 961us/step - loss: 0.3868 - accuracy: 0.8315 - val_loss: 0.3530 - val_accuracy: 0.8492\n",
      "Epoch 153/1000\n",
      "23/23 [==============================] - 0s 931us/step - loss: 0.3957 - accuracy: 0.8272 - val_loss: 0.3385 - val_accuracy: 0.8603\n",
      "Epoch 154/1000\n",
      "23/23 [==============================] - 0s 979us/step - loss: 0.3790 - accuracy: 0.8202 - val_loss: 0.3605 - val_accuracy: 0.8324\n",
      "Epoch 155/1000\n",
      "23/23 [==============================] - 0s 994us/step - loss: 0.3810 - accuracy: 0.8329 - val_loss: 0.3514 - val_accuracy: 0.8380\n",
      "Epoch 156/1000\n",
      "23/23 [==============================] - 0s 972us/step - loss: 0.3823 - accuracy: 0.8329 - val_loss: 0.3827 - val_accuracy: 0.8436\n",
      "Epoch 157/1000\n",
      "23/23 [==============================] - 0s 971us/step - loss: 0.3901 - accuracy: 0.8244 - val_loss: 0.3433 - val_accuracy: 0.8603\n",
      "Epoch 158/1000\n",
      "23/23 [==============================] - 0s 943us/step - loss: 0.3830 - accuracy: 0.8329 - val_loss: 0.3271 - val_accuracy: 0.8380\n",
      "Epoch 159/1000\n",
      "23/23 [==============================] - 0s 985us/step - loss: 0.3823 - accuracy: 0.8343 - val_loss: 0.3750 - val_accuracy: 0.8492\n",
      "Epoch 160/1000\n",
      "23/23 [==============================] - 0s 990us/step - loss: 0.4245 - accuracy: 0.8104 - val_loss: 0.3604 - val_accuracy: 0.8436\n",
      "Epoch 161/1000\n",
      "23/23 [==============================] - 0s 947us/step - loss: 0.3904 - accuracy: 0.8202 - val_loss: 0.3851 - val_accuracy: 0.8547\n",
      "Epoch 162/1000\n",
      "23/23 [==============================] - 0s 969us/step - loss: 0.4107 - accuracy: 0.8118 - val_loss: 0.3275 - val_accuracy: 0.8436\n",
      "Epoch 163/1000\n",
      "23/23 [==============================] - 0s 997us/step - loss: 0.4009 - accuracy: 0.8174 - val_loss: 0.3340 - val_accuracy: 0.8492\n",
      "Epoch 164/1000\n",
      "23/23 [==============================] - 0s 947us/step - loss: 0.3896 - accuracy: 0.8272 - val_loss: 0.3359 - val_accuracy: 0.8436\n",
      "Epoch 165/1000\n",
      "23/23 [==============================] - 0s 2ms/step - loss: 0.3932 - accuracy: 0.8160 - val_loss: 0.3397 - val_accuracy: 0.8547\n",
      "Epoch 166/1000\n",
      "23/23 [==============================] - 0s 999us/step - loss: 0.3918 - accuracy: 0.8188 - val_loss: 0.3742 - val_accuracy: 0.8436\n",
      "Epoch 167/1000\n",
      "23/23 [==============================] - 0s 1ms/step - loss: 0.3971 - accuracy: 0.8202 - val_loss: 0.3412 - val_accuracy: 0.8324\n",
      "Epoch 168/1000\n",
      "23/23 [==============================] - 0s 1000us/step - loss: 0.3788 - accuracy: 0.8287 - val_loss: 0.3415 - val_accuracy: 0.8380\n",
      "Epoch 169/1000\n",
      "23/23 [==============================] - 0s 968us/step - loss: 0.3965 - accuracy: 0.8188 - val_loss: 0.3338 - val_accuracy: 0.8547\n",
      "Epoch 170/1000\n",
      "23/23 [==============================] - 0s 978us/step - loss: 0.3941 - accuracy: 0.8244 - val_loss: 0.3343 - val_accuracy: 0.8547\n",
      "Epoch 171/1000\n",
      "23/23 [==============================] - 0s 965us/step - loss: 0.4062 - accuracy: 0.8230 - val_loss: 0.3306 - val_accuracy: 0.8547\n",
      "Epoch 172/1000\n",
      "23/23 [==============================] - 0s 972us/step - loss: 0.3740 - accuracy: 0.8399 - val_loss: 0.3450 - val_accuracy: 0.8212\n",
      "Epoch 173/1000\n",
      "23/23 [==============================] - 0s 955us/step - loss: 0.4103 - accuracy: 0.8272 - val_loss: 0.3511 - val_accuracy: 0.8603\n",
      "Epoch 174/1000\n",
      "23/23 [==============================] - 0s 945us/step - loss: 0.4519 - accuracy: 0.8034 - val_loss: 0.3477 - val_accuracy: 0.8547\n",
      "Epoch 175/1000\n",
      "23/23 [==============================] - 0s 952us/step - loss: 0.3983 - accuracy: 0.8132 - val_loss: 0.3329 - val_accuracy: 0.8436\n",
      "Epoch 176/1000\n",
      "23/23 [==============================] - 0s 992us/step - loss: 0.3953 - accuracy: 0.8287 - val_loss: 0.3613 - val_accuracy: 0.8492\n",
      "Epoch 177/1000\n",
      "23/23 [==============================] - 0s 1ms/step - loss: 0.4088 - accuracy: 0.8244 - val_loss: 0.3359 - val_accuracy: 0.8547\n",
      "Epoch 178/1000\n",
      "23/23 [==============================] - 0s 990us/step - loss: 0.3898 - accuracy: 0.8216 - val_loss: 0.3330 - val_accuracy: 0.8547\n",
      "Epoch 179/1000\n",
      "23/23 [==============================] - 0s 976us/step - loss: 0.4205 - accuracy: 0.8385 - val_loss: 0.3306 - val_accuracy: 0.8492\n",
      "Epoch 180/1000\n",
      "23/23 [==============================] - 0s 961us/step - loss: 0.3776 - accuracy: 0.8315 - val_loss: 0.3362 - val_accuracy: 0.8492\n",
      "Epoch 181/1000\n",
      "23/23 [==============================] - 0s 919us/step - loss: 0.3998 - accuracy: 0.8202 - val_loss: 0.3459 - val_accuracy: 0.8268\n",
      "Epoch 182/1000\n",
      "23/23 [==============================] - 0s 940us/step - loss: 0.4119 - accuracy: 0.8076 - val_loss: 0.3793 - val_accuracy: 0.8380\n",
      "Epoch 183/1000\n",
      "23/23 [==============================] - 0s 934us/step - loss: 0.3830 - accuracy: 0.8343 - val_loss: 0.3754 - val_accuracy: 0.8324\n",
      "Epoch 184/1000\n",
      "23/23 [==============================] - 0s 980us/step - loss: 0.3806 - accuracy: 0.8230 - val_loss: 0.3412 - val_accuracy: 0.8324\n",
      "Epoch 185/1000\n",
      "23/23 [==============================] - 0s 2ms/step - loss: 0.3764 - accuracy: 0.8258 - val_loss: 0.3480 - val_accuracy: 0.8324\n",
      "Epoch 186/1000\n",
      "23/23 [==============================] - 0s 974us/step - loss: 0.3833 - accuracy: 0.8301 - val_loss: 0.3300 - val_accuracy: 0.8436\n",
      "Epoch 187/1000\n",
      "23/23 [==============================] - 0s 951us/step - loss: 0.3759 - accuracy: 0.8441 - val_loss: 0.3407 - val_accuracy: 0.8324\n",
      "Epoch 188/1000\n",
      "23/23 [==============================] - 0s 944us/step - loss: 0.3963 - accuracy: 0.8244 - val_loss: 0.3537 - val_accuracy: 0.8324\n",
      "Epoch 189/1000\n",
      "23/23 [==============================] - 0s 971us/step - loss: 0.3879 - accuracy: 0.8216 - val_loss: 0.3326 - val_accuracy: 0.8547\n",
      "Epoch 190/1000\n",
      "23/23 [==============================] - 0s 958us/step - loss: 0.3846 - accuracy: 0.8371 - val_loss: 0.3478 - val_accuracy: 0.8268\n",
      "Epoch 191/1000\n",
      "23/23 [==============================] - 0s 987us/step - loss: 0.4025 - accuracy: 0.8132 - val_loss: 0.3396 - val_accuracy: 0.8492\n",
      "Epoch 192/1000\n",
      "23/23 [==============================] - 0s 969us/step - loss: 0.4020 - accuracy: 0.8315 - val_loss: 0.3330 - val_accuracy: 0.8603\n",
      "Epoch 193/1000\n",
      "23/23 [==============================] - 0s 986us/step - loss: 0.3817 - accuracy: 0.8244 - val_loss: 0.3496 - val_accuracy: 0.8436\n",
      "Epoch 194/1000\n",
      "23/23 [==============================] - 0s 990us/step - loss: 0.3811 - accuracy: 0.8272 - val_loss: 0.3455 - val_accuracy: 0.8380\n",
      "Epoch 195/1000\n",
      "23/23 [==============================] - 0s 949us/step - loss: 0.3742 - accuracy: 0.8427 - val_loss: 0.3325 - val_accuracy: 0.8547\n",
      "Epoch 196/1000\n",
      "23/23 [==============================] - 0s 956us/step - loss: 0.3674 - accuracy: 0.8441 - val_loss: 0.3367 - val_accuracy: 0.8547\n",
      "Epoch 197/1000\n",
      "23/23 [==============================] - 0s 939us/step - loss: 0.3751 - accuracy: 0.8455 - val_loss: 0.3425 - val_accuracy: 0.8268\n",
      "Epoch 198/1000\n",
      "23/23 [==============================] - 0s 946us/step - loss: 0.3986 - accuracy: 0.8216 - val_loss: 0.3748 - val_accuracy: 0.8492\n",
      "Epoch 199/1000\n",
      "23/23 [==============================] - 0s 1ms/step - loss: 0.3984 - accuracy: 0.8202 - val_loss: 0.3312 - val_accuracy: 0.8547\n",
      "Epoch 200/1000\n",
      "23/23 [==============================] - 0s 957us/step - loss: 0.3678 - accuracy: 0.8413 - val_loss: 0.3395 - val_accuracy: 0.8547\n",
      "Epoch 201/1000\n",
      "23/23 [==============================] - 0s 977us/step - loss: 0.3771 - accuracy: 0.8371 - val_loss: 0.3714 - val_accuracy: 0.8212\n",
      "Epoch 202/1000\n",
      "23/23 [==============================] - 0s 957us/step - loss: 0.3799 - accuracy: 0.8258 - val_loss: 0.3549 - val_accuracy: 0.8547\n",
      "Epoch 203/1000\n",
      "23/23 [==============================] - 0s 981us/step - loss: 0.3744 - accuracy: 0.8497 - val_loss: 0.3422 - val_accuracy: 0.8380\n",
      "Epoch 204/1000\n",
      "23/23 [==============================] - 0s 970us/step - loss: 0.3864 - accuracy: 0.8315 - val_loss: 0.3533 - val_accuracy: 0.8212\n",
      "Epoch 205/1000\n",
      "23/23 [==============================] - 0s 977us/step - loss: 0.3813 - accuracy: 0.8230 - val_loss: 0.3330 - val_accuracy: 0.8547\n",
      "Epoch 206/1000\n",
      "23/23 [==============================] - 0s 2ms/step - loss: 0.3808 - accuracy: 0.8343 - val_loss: 0.3354 - val_accuracy: 0.8547\n",
      "Epoch 207/1000\n",
      "23/23 [==============================] - 0s 1ms/step - loss: 0.4002 - accuracy: 0.8287 - val_loss: 0.3424 - val_accuracy: 0.8380\n",
      "Epoch 208/1000\n",
      "23/23 [==============================] - 0s 1ms/step - loss: 0.3799 - accuracy: 0.8216 - val_loss: 0.3535 - val_accuracy: 0.8156\n"
     ]
    }
   ],
   "source": [
    "# build the layer of neural networks\n",
    "\n",
    "model = tf.keras.Sequential([\n",
    "    tf.keras.layers.Dense(64, activation='relu', input_shape=(x_train.shape[1],)),   # first layer / input: pass the input_shape by the number of features we pass to the model\n",
    "    tf.keras.layers.Dense(64, activation='relu'),                                    # second layer: only for calculation\n",
    "    tf.keras.layers.Dense(1, activation='sigmoid')                                   # last layer: output of the model, activation as sigmoid for binary outcome\n",
    "])\n",
    "\n",
    "# compile model to define loss and accuracy metrics\n",
    "\n",
    "model.compile(optimizer='adam',\n",
    "              loss='binary_crossentropy',\n",
    "              metrics=['accuracy'])\n",
    "\n",
    "# set callback with early stopping, to tell the model to stop once the model performance doesn't increase\n",
    "\n",
    "early_stopping = tf.keras.callbacks.EarlyStopping(monitor='val_loss',           # monitor the val_loss\n",
    "                                                  patience=50,                  # set patience level if the perform doesn't increase for 3 cons. epochs\n",
    "                                                  restore_best_weights=True\n",
    "                                                  )\n",
    "\n",
    "# call model.fit to start train the model\n",
    "\n",
    "history = model.fit(x_train, y_train, \n",
    "                    epochs=1000,                # one complete of iteration (forward-pass and backward-pass)\n",
    "                    batch_size=32,              # number of training examples for in one iteration (epoch)\n",
    "                    validation_split=0.2,       # for validation dataset\n",
    "                    callbacks=[early_stopping]  # pass the early stopping here\n",
    "                    )"
   ]
  },
  {
   "cell_type": "markdown",
   "metadata": {},
   "source": [
    "# Preprocessing and Train the Model Using Purely Tensorflow from Reading the Data\n",
    "\n",
    "Tensorflow model can be trained either by numpy array or tensorflow dataset. Some advantages using tensorflow dataset:\n",
    "\n",
    "- tf.data.Dataset is a TensorFlow API for building efficient data input pipelines.\n",
    "- It allows you to create a data pipeline for preprocessing and feeding data directly into your model during training.\n",
    "- tf.data.Dataset provides functions for reading and transforming data, batching, shuffling, and prefetching, which can help optimize the training process.\n",
    "- It is particularly **useful for handling large datasets that do not fit into memory**, as it can read and process data in batches on the fly."
   ]
  },
  {
   "cell_type": "markdown",
   "metadata": {},
   "source": [
    "## Extracting"
   ]
  },
  {
   "cell_type": "code",
   "execution_count": 377,
   "metadata": {},
   "outputs": [],
   "source": [
    "# extracting directly using tf.dataset\n",
    "# with this, instead of defining batch_size and num_epochs in the model, we define it in the dataset itself\n",
    "\n",
    "cols_to_incl = ['Survived', 'Pclass', 'Sex', 'Age', 'SibSp', 'Parch', 'Fare', 'Embarked']\n",
    "\n",
    "dataset = tf.data.experimental.make_csv_dataset('train.csv',\n",
    "                                                batch_size=32,                  # number of examples (rows) to include in each batch of the dataset\n",
    "                                                label_name='Survived',          # specifies the name of the column in the CSV file that contains the target variable\n",
    "                                                na_value='?',                   # '?' string value should be treated as a missing value (NaN) in the dataset\n",
    "                                                num_epochs=1000,                # one complete of iteration (forward-pass and backward-pass)\n",
    "                                                ignore_errors=True,\n",
    "                                                select_columns=cols_to_incl     # specify columns we want to use for the model\n",
    "                                                )"
   ]
  },
  {
   "cell_type": "code",
   "execution_count": 333,
   "metadata": {},
   "outputs": [
    {
     "name": "stdout",
     "output_type": "stream",
     "text": [
      "Features:\n",
      "OrderedDict([('Pclass', <tf.Tensor: shape=(32,), dtype=int32, numpy=\n",
      "array([3, 1, 1, 1, 3, 1, 1, 3, 3, 2, 3, 3, 3, 2, 3, 3, 3, 2, 3, 2, 1, 1,\n",
      "       1, 3, 3, 3, 3, 3, 3, 3, 3, 2], dtype=int32)>), ('Sex', <tf.Tensor: shape=(32,), dtype=string, numpy=\n",
      "array([b'male', b'male', b'male', b'female', b'male', b'female', b'male',\n",
      "       b'female', b'male', b'female', b'male', b'male', b'female',\n",
      "       b'male', b'male', b'female', b'female', b'male', b'male', b'male',\n",
      "       b'female', b'male', b'male', b'male', b'male', b'male', b'female',\n",
      "       b'male', b'male', b'male', b'female', b'female'], dtype=object)>), ('Age', <tf.Tensor: shape=(32,), dtype=float32, numpy=\n",
      "array([ 0., 28., 65., 39.,  0., 32., 51.,  0., 16., 24.,  0., 16.,  0.,\n",
      "       42.,  0., 29., 21., 44., 74., 19., 35., 19.,  0., 19., 19., 22.,\n",
      "       41., 47., 19., 21.,  0., 28.], dtype=float32)>), ('SibSp', <tf.Tensor: shape=(32,), dtype=int32, numpy=\n",
      "array([0, 0, 0, 1, 0, 0, 0, 0, 0, 0, 0, 0, 0, 0, 0, 0, 1, 1, 0, 0, 1, 3,\n",
      "       0, 0, 0, 0, 0, 0, 0, 0, 0, 1], dtype=int32)>), ('Parch', <tf.Tensor: shape=(32,), dtype=int32, numpy=\n",
      "array([0, 0, 1, 1, 0, 0, 0, 0, 0, 0, 0, 0, 0, 0, 0, 4, 0, 0, 0, 0, 0, 2,\n",
      "       0, 0, 0, 0, 5, 0, 0, 0, 0, 0], dtype=int32)>), ('Fare', <tf.Tensor: shape=(32,), dtype=float32, numpy=\n",
      "array([  8.05  ,  26.55  ,  61.9792, 110.8833,  14.5   ,  76.2917,\n",
      "        26.55  ,   7.225 ,   9.2167,  13.    ,   7.3125,   8.05  ,\n",
      "         7.2292,  13.    ,   8.4583,  21.075 ,   9.825 ,  26.    ,\n",
      "         7.775 ,  13.    ,  83.475 , 263.    ,  42.4   ,   6.75  ,\n",
      "         7.8958,   7.125 ,  39.6875,   9.    ,   8.05  ,   8.4333,\n",
      "         8.05  ,  26.    ], dtype=float32)>), ('Embarked', <tf.Tensor: shape=(32,), dtype=string, numpy=\n",
      "array([b'S', b'S', b'C', b'C', b'S', b'C', b'S', b'C', b'S', b'S', b'S',\n",
      "       b'S', b'C', b'S', b'Q', b'S', b'S', b'S', b'S', b'S', b'S', b'S',\n",
      "       b'S', b'Q', b'S', b'S', b'S', b'S', b'S', b'S', b'S', b'S'],\n",
      "      dtype=object)>)])\n",
      "Label:\n",
      "tf.Tensor([0 1 0 1 0 1 1 1 0 1 0 1 1 1 0 0 0 0 0 0 1 0 0 0 0 0 0 0 0 0 0 1], shape=(32,), dtype=int32)\n"
     ]
    }
   ],
   "source": [
    "# quick check for the data\n",
    "# will return this from out-of-memory to the internal memory\n",
    "# dataset.take(1) will take sample of the data in the size of the batch_size we define previously\n",
    "\n",
    "for features, label in dataset.take(1):    \n",
    "    print(\"Features:\")\n",
    "    print(features)\n",
    "    print(\"Label:\")\n",
    "    print(label)"
   ]
  },
  {
   "cell_type": "markdown",
   "metadata": {},
   "source": [
    "## Preprocessing"
   ]
  },
  {
   "cell_type": "markdown",
   "metadata": {},
   "source": [
    "### Replace nan value in Age and Embarked columns"
   ]
  },
  {
   "cell_type": "code",
   "execution_count": 378,
   "metadata": {},
   "outputs": [],
   "source": [
    "# assuming that the mean of age is 27 and mode of embarked is \"S\"\n",
    "# based on our prev. calculation\n",
    "mean_age = 27.0\n",
    "mode_embark = 'S'\n",
    "\n",
    "# create function to replace nan value in age and embarked columns\n",
    "def fill_missing_nan(features, label):\n",
    "\n",
    "    features['Age'] = tf.where(features['Age'] == 0.0, mean_age, features['Age'])\n",
    "    features['Embarked'] = tf.where(features['Embarked'] == 'S', mode_embark, features['Embarked'])\n",
    "\n",
    "    return features, label\n",
    "\n",
    "dataset = dataset.map(fill_missing_nan)"
   ]
  },
  {
   "cell_type": "markdown",
   "metadata": {},
   "source": [
    "### Preprocessing for the model"
   ]
  },
  {
   "cell_type": "code",
   "execution_count": 380,
   "metadata": {},
   "outputs": [],
   "source": [
    "# define all the features and labels\n",
    "# start with categorical columns\n",
    "sex_col = tf.feature_column.categorical_column_with_vocabulary_list('Sex', ['male', 'female'])\n",
    "embarked_col = tf.feature_column.categorical_column_with_vocabulary_list('Embarked', ['S', 'C', 'Q'])\n",
    "pclass_col = tf.feature_column.categorical_column_with_vocabulary_list('Pclass', [1, 2, 3])\n",
    "\n",
    "# then with the numerical columns\n",
    "age_col = tf.feature_column.numeric_column('Age')\n",
    "sibsp_col = tf.feature_column.numeric_column('SibSp')\n",
    "parch_col = tf.feature_column.numeric_column('Parch')\n",
    "\n",
    "# pass all the features columns here into one variable of list\n",
    "# don't forget to wrap the categorical with indicator_column into a format that can be effectively used in a neural network or other machine learning models\n",
    "# it's like the one-hot encoding version of tensorflow\n",
    "features_col = [tf.feature_column.indicator_column(sex_col), \n",
    "                tf.feature_column.indicator_column(embarked_col), \n",
    "                tf.feature_column.indicator_column(pclass_col),\n",
    "                age_col, \n",
    "                sibsp_col, \n",
    "                parch_col]\n",
    "\n",
    "# define a function to preprocess the data, wrap everything to our dataset\n",
    "def preprocess(features, labels):\n",
    "    features_dict = dict(features)\n",
    "    inputs = tf.keras.layers.DenseFeatures(features_col)(features_dict)\n",
    "    return inputs, labels\n",
    "\n",
    "# apply the preprocessing function to the dataset\n",
    "dataset = dataset.map(preprocess)"
   ]
  },
  {
   "cell_type": "markdown",
   "metadata": {},
   "source": [
    "## Build and Train the Model\n",
    "\n",
    "- One of the advantages to train the with a tf.data.Dataset is that it does not return the full history of training metrics by default. \n",
    "- Instead, it only returns the metrics for the last batch or step of each epoch.\n",
    "- To access the full history of training metrics, you need to use a custom training loop and manually update the metrics at each step."
   ]
  },
  {
   "cell_type": "code",
   "execution_count": 407,
   "metadata": {},
   "outputs": [
    {
     "name": "stdout",
     "output_type": "stream",
     "text": [
      "Epoch 1/5\n",
      "712/712 [==============================] - 10s 13ms/step - loss: 0.4610 - accuracy: 0.7938 - val_loss: 0.3886 - val_accuracy: 0.8316\n",
      "Epoch 2/5\n",
      "712/712 [==============================] - 9s 13ms/step - loss: 0.3920 - accuracy: 0.8332 - val_loss: 0.4477 - val_accuracy: 0.7834\n",
      "Epoch 3/5\n",
      "712/712 [==============================] - 9s 13ms/step - loss: 0.3846 - accuracy: 0.8344 - val_loss: 0.3744 - val_accuracy: 0.8429\n",
      "Epoch 4/5\n",
      "712/712 [==============================] - 9s 13ms/step - loss: 0.3764 - accuracy: 0.8362 - val_loss: 0.3803 - val_accuracy: 0.8328\n",
      "Epoch 5/5\n",
      "712/712 [==============================] - 10s 14ms/step - loss: 0.3719 - accuracy: 0.8374 - val_loss: 0.3576 - val_accuracy: 0.8429\n"
     ]
    }
   ],
   "source": [
    "model_tf = tf.keras.Sequential([\n",
    "    tf.keras.layers.Dense(128, activation='relu'),\n",
    "    tf.keras.layers.Dense(64, activation='relu'),\n",
    "    tf.keras.layers.Dense(1, activation='sigmoid')  # activation with unit=1 and act=sigmoid for binary output\n",
    "])\n",
    "\n",
    "model_tf.compile(optimizer='adam',\n",
    "              loss='binary_crossentropy',\n",
    "              metrics='accuracy')\n",
    "\n",
    "# callback again using early stopping\n",
    "early_stopping = tf.keras.callbacks.EarlyStopping(monitor='val_loss',          \n",
    "                                                  patience=3,                  \n",
    "                                                  restore_best_weights=True\n",
    "                                                  )\n",
    "\n",
    "# create train and validation dataset using take and skip \n",
    "train_size = math.floor(len(df) * 0.8)\n",
    "val_size = len(df) - train_size\n",
    "\n",
    "train_dataset = dataset.take(train_size)\n",
    "val_dataset = dataset.skip(train_size)\n",
    "\n",
    "history_tf = model_tf.fit(train_dataset, \n",
    "                          # using epoch again to force iteration, so we'd be able to see the accuracy\n",
    "                          # w/o this (epoch only defined in tf.dataset), it won't show the performance of model every epoch from time-to-time\n",
    "                          epochs=5,                     \n",
    "                          validation_data=val_dataset, \n",
    "                          callbacks=[early_stopping])"
   ]
  },
  {
   "cell_type": "markdown",
   "metadata": {},
   "source": []
  },
  {
   "cell_type": "markdown",
   "metadata": {},
   "source": [
    "# Evaluate the Model\n",
    "\n",
    "We can evaluate the model by looking at the train and validation and plot it."
   ]
  },
  {
   "cell_type": "markdown",
   "metadata": {},
   "source": [
    "## Scikit-learn + Tensorflow"
   ]
  },
  {
   "cell_type": "code",
   "execution_count": 220,
   "metadata": {},
   "outputs": [
    {
     "data": {
      "image/png": "[encoded data removed]",
      "text/plain": [
       "<Figure size 1000x500 with 1 Axes>"
      ]
     },
     "metadata": {},
     "output_type": "display_data"
    },
    {
     "data": {
      "image/png": "[encoded data removed]",
      "text/plain": [
       "<Figure size 1000x500 with 1 Axes>"
      ]
     },
     "metadata": {},
     "output_type": "display_data"
    }
   ],
   "source": [
    "import matplotlib.pyplot as plt\n",
    "\n",
    "# plot training & validation loss values\n",
    "plt.figure(figsize=(10, 5))\n",
    "plt.plot(history.history['loss'])\n",
    "plt.plot(history.history['val_loss'])\n",
    "plt.title('Model loss')\n",
    "plt.ylabel('Loss')\n",
    "plt.xlabel('Epoch')\n",
    "plt.legend(['Train', 'Validation'], loc='upper left')\n",
    "plt.show()\n",
    "\n",
    "# plot training & validation accuracy values\n",
    "plt.figure(figsize=(10, 5))\n",
    "plt.plot(history.history['accuracy'])\n",
    "plt.plot(history.history['val_accuracy'])\n",
    "plt.title('Model accuracy')\n",
    "plt.ylabel('Accuracy')\n",
    "plt.xlabel('Epoch')\n",
    "plt.legend(['Train', 'Validation'], loc='upper left')\n",
    "plt.show()"
   ]
  },
  {
   "cell_type": "markdown",
   "metadata": {},
   "source": [
    "## Pure Tensorflow"
   ]
  },
  {
   "cell_type": "code",
   "execution_count": 409,
   "metadata": {},
   "outputs": [
    {
     "data": {
      "image/png": "[encoded data removed]",
      "text/plain": [
       "<Figure size 1000x500 with 1 Axes>"
      ]
     },
     "metadata": {},
     "output_type": "display_data"
    },
    {
     "data": {
      "image/png": "[encoded data removed]",
      "text/plain": [
       "<Figure size 1000x500 with 1 Axes>"
      ]
     },
     "metadata": {},
     "output_type": "display_data"
    }
   ],
   "source": [
    "import matplotlib.pyplot as plt\n",
    "\n",
    "# plot training & validation loss values\n",
    "plt.figure(figsize=(10, 5))\n",
    "plt.plot(history_tf.history['loss'])\n",
    "plt.plot(history_tf.history['val_loss'])\n",
    "plt.title('Model loss')\n",
    "plt.ylabel('Loss')\n",
    "plt.xlabel('Epoch')\n",
    "plt.legend(['Train', 'Validation'], loc='upper left')\n",
    "plt.show()\n",
    "\n",
    "# plot training & validation accuracy values\n",
    "plt.figure(figsize=(10, 5))\n",
    "plt.plot(history_tf.history['accuracy'])\n",
    "plt.plot(history_tf.history['val_accuracy'])\n",
    "plt.title('Model accuracy')\n",
    "plt.ylabel('Accuracy')\n",
    "plt.xlabel('Epoch')\n",
    "plt.legend(['Train', 'Validation'], loc='upper left')\n",
    "plt.show()"
   ]
  },
  {
   "cell_type": "markdown",
   "metadata": {},
   "source": [
    "## Save the model"
   ]
  },
  {
   "cell_type": "markdown",
   "metadata": {},
   "source": [
    "### As Tensorflow format\n",
    "\n",
    "- Saves the model in the TensorFlow SavedModel format by default. \n",
    "- This format includes the model architecture, weights, and training configuration.\n",
    "- Making it suitable for loading the model back into TensorFlow for further training or inference."
   ]
  },
  {
   "cell_type": "code",
   "execution_count": 483,
   "metadata": {},
   "outputs": [
    {
     "name": "stdout",
     "output_type": "stream",
     "text": [
      "INFO:tensorflow:Assets written to: model/v1.0/assets\n"
     ]
    },
    {
     "name": "stderr",
     "output_type": "stream",
     "text": [
      "INFO:tensorflow:Assets written to: model/v1.0/assets\n"
     ]
    }
   ],
   "source": [
    "import datetime\n",
    "import json\n",
    "\n",
    "model_path = f'model/v{model_ver}'\n",
    "model.save(model_path)\n",
    "\n",
    "# include metadata in the folder\n",
    "# to specify the versioning and all info related to the model\n",
    "metadata = {\n",
    "    'version': model_ver,\n",
    "    'author': 'Taufiqur Rohman',\n",
    "    'date_created' : str(datetime.datetime.now())\n",
    "}\n",
    "\n",
    "with open(f'{model_path}/metadata.json', 'w') as file:\n",
    "    json.dump(metadata, file)"
   ]
  },
  {
   "cell_type": "markdown",
   "metadata": {},
   "source": [
    "### As HDF5 format\n",
    "\n",
    "- More convenient for sharing or deploying models in environments that do not support the TensorFlow SavedModel format\n",
    "- Provides a more direct and flexible interface compared to the TensorFlow SavedModel format for testing and debugging\n",
    "- Deploying models to mobile devices or web applications\n"
   ]
  },
  {
   "cell_type": "code",
   "execution_count": 495,
   "metadata": {},
   "outputs": [],
   "source": [
    "model_path = f'model_h5/v{model_ver}'\n",
    "model.save(model_path + '/model.h5', save_format='h5')  # the only difference is we pass save_format parameter here\n",
    "\n",
    "metadata = {\n",
    "    'version': model_ver,\n",
    "    'author': 'Taufiqur Rohman',\n",
    "    'date_created' : str(datetime.datetime.now())\n",
    "}\n",
    "\n",
    "with open(f'{model_path}/metadata.json', 'w') as file:\n",
    "    json.dump(metadata, file)"
   ]
  },
  {
   "cell_type": "markdown",
   "metadata": {},
   "source": []
  },
  {
   "cell_type": "markdown",
   "metadata": {},
   "source": [
    "# Testing the Model"
   ]
  },
  {
   "cell_type": "markdown",
   "metadata": {},
   "source": [
    "## Read the test data provided by titanic.zip"
   ]
  },
  {
   "cell_type": "code",
   "execution_count": 447,
   "metadata": {},
   "outputs": [
    {
     "data": {
      "text/html": [
       "<div>\n",
       "<style scoped>\n",
       "    .dataframe tbody tr th:only-of-type {\n",
       "        vertical-align: middle;\n",
       "    }\n",
       "\n",
       "    .dataframe tbody tr th {\n",
       "        vertical-align: top;\n",
       "    }\n",
       "\n",
       "    .dataframe thead th {\n",
       "        text-align: right;\n",
       "    }\n",
       "</style>\n",
       "<table border=\"1\" class=\"dataframe\">\n",
       "  <thead>\n",
       "    <tr style=\"text-align: right;\">\n",
       "      <th></th>\n",
       "      <th>PassengerId</th>\n",
       "      <th>Pclass</th>\n",
       "      <th>Name</th>\n",
       "      <th>Sex</th>\n",
       "      <th>Age</th>\n",
       "      <th>SibSp</th>\n",
       "      <th>Parch</th>\n",
       "      <th>Ticket</th>\n",
       "      <th>Fare</th>\n",
       "      <th>Cabin</th>\n",
       "      <th>Embarked</th>\n",
       "    </tr>\n",
       "  </thead>\n",
       "  <tbody>\n",
       "    <tr>\n",
       "      <th>0</th>\n",
       "      <td>892</td>\n",
       "      <td>3</td>\n",
       "      <td>Kelly, Mr. James</td>\n",
       "      <td>male</td>\n",
       "      <td>34.5</td>\n",
       "      <td>0</td>\n",
       "      <td>0</td>\n",
       "      <td>330911</td>\n",
       "      <td>7.8292</td>\n",
       "      <td>NaN</td>\n",
       "      <td>Q</td>\n",
       "    </tr>\n",
       "    <tr>\n",
       "      <th>1</th>\n",
       "      <td>893</td>\n",
       "      <td>3</td>\n",
       "      <td>Wilkes, Mrs. James (Ellen Needs)</td>\n",
       "      <td>female</td>\n",
       "      <td>47.0</td>\n",
       "      <td>1</td>\n",
       "      <td>0</td>\n",
       "      <td>363272</td>\n",
       "      <td>7.0000</td>\n",
       "      <td>NaN</td>\n",
       "      <td>S</td>\n",
       "    </tr>\n",
       "    <tr>\n",
       "      <th>2</th>\n",
       "      <td>894</td>\n",
       "      <td>2</td>\n",
       "      <td>Myles, Mr. Thomas Francis</td>\n",
       "      <td>male</td>\n",
       "      <td>62.0</td>\n",
       "      <td>0</td>\n",
       "      <td>0</td>\n",
       "      <td>240276</td>\n",
       "      <td>9.6875</td>\n",
       "      <td>NaN</td>\n",
       "      <td>Q</td>\n",
       "    </tr>\n",
       "    <tr>\n",
       "      <th>3</th>\n",
       "      <td>895</td>\n",
       "      <td>3</td>\n",
       "      <td>Wirz, Mr. Albert</td>\n",
       "      <td>male</td>\n",
       "      <td>27.0</td>\n",
       "      <td>0</td>\n",
       "      <td>0</td>\n",
       "      <td>315154</td>\n",
       "      <td>8.6625</td>\n",
       "      <td>NaN</td>\n",
       "      <td>S</td>\n",
       "    </tr>\n",
       "    <tr>\n",
       "      <th>4</th>\n",
       "      <td>896</td>\n",
       "      <td>3</td>\n",
       "      <td>Hirvonen, Mrs. Alexander (Helga E Lindqvist)</td>\n",
       "      <td>female</td>\n",
       "      <td>22.0</td>\n",
       "      <td>1</td>\n",
       "      <td>1</td>\n",
       "      <td>3101298</td>\n",
       "      <td>12.2875</td>\n",
       "      <td>NaN</td>\n",
       "      <td>S</td>\n",
       "    </tr>\n",
       "  </tbody>\n",
       "</table>\n",
       "</div>"
      ],
      "text/plain": [
       "   PassengerId  Pclass                                          Name     Sex  \\\n",
       "0          892       3                              Kelly, Mr. James    male   \n",
       "1          893       3              Wilkes, Mrs. James (Ellen Needs)  female   \n",
       "2          894       2                     Myles, Mr. Thomas Francis    male   \n",
       "3          895       3                              Wirz, Mr. Albert    male   \n",
       "4          896       3  Hirvonen, Mrs. Alexander (Helga E Lindqvist)  female   \n",
       "\n",
       "    Age  SibSp  Parch   Ticket     Fare Cabin Embarked  \n",
       "0  34.5      0      0   330911   7.8292   NaN        Q  \n",
       "1  47.0      1      0   363272   7.0000   NaN        S  \n",
       "2  62.0      0      0   240276   9.6875   NaN        Q  \n",
       "3  27.0      0      0   315154   8.6625   NaN        S  \n",
       "4  22.0      1      1  3101298  12.2875   NaN        S  "
      ]
     },
     "execution_count": 447,
     "metadata": {},
     "output_type": "execute_result"
    }
   ],
   "source": [
    "df_test = pd.read_csv('test.csv')\n",
    "df_test.head(5)"
   ]
  },
  {
   "cell_type": "markdown",
   "metadata": {},
   "source": [
    "## Preprocess the Data\n",
    "The preprocessing steps have to be the exact same as we train the model. The model will require us to pass the same input."
   ]
  },
  {
   "cell_type": "code",
   "execution_count": 466,
   "metadata": {},
   "outputs": [
    {
     "name": "stderr",
     "output_type": "stream",
     "text": [
      "/Users/taufiqurrohman/anaconda3/lib/python3.10/site-packages/sklearn/preprocessing/_encoders.py:828: FutureWarning: `sparse` was renamed to `sparse_output` in version 1.2 and will be removed in 1.4. `sparse_output` is ignored unless you leave `sparse` to its default value.\n",
      "  warnings.warn(\n"
     ]
    },
    {
     "data": {
      "text/plain": [
       "(418, 12)"
      ]
     },
     "execution_count": 466,
     "metadata": {},
     "output_type": "execute_result"
    }
   ],
   "source": [
    "# using the preprocess_dataframe\n",
    "# we define that before\n",
    "\n",
    "x_test = preprocess_dataframe(df_test)\n",
    "x_test.shape"
   ]
  },
  {
   "cell_type": "markdown",
   "metadata": {},
   "source": [
    "## Predict using the model"
   ]
  },
  {
   "cell_type": "code",
   "execution_count": 463,
   "metadata": {},
   "outputs": [
    {
     "name": "stdout",
     "output_type": "stream",
     "text": [
      "14/14 [==============================] - 0s 444us/step\n"
     ]
    },
    {
     "data": {
      "text/plain": [
       "array([[0.01565442],\n",
       "       [0.32766604],\n",
       "       [0.00313495],\n",
       "       [0.06142586],\n",
       "       [0.42965204]], dtype=float32)"
      ]
     },
     "execution_count": 463,
     "metadata": {},
     "output_type": "execute_result"
    }
   ],
   "source": [
    "prediction = model.predict(x_test)\n",
    "prediction[:5]"
   ]
  },
  {
   "cell_type": "code",
   "execution_count": 477,
   "metadata": {},
   "outputs": [
    {
     "data": {
      "text/html": [
       "<div>\n",
       "<style scoped>\n",
       "    .dataframe tbody tr th:only-of-type {\n",
       "        vertical-align: middle;\n",
       "    }\n",
       "\n",
       "    .dataframe tbody tr th {\n",
       "        vertical-align: top;\n",
       "    }\n",
       "\n",
       "    .dataframe thead th {\n",
       "        text-align: right;\n",
       "    }\n",
       "</style>\n",
       "<table border=\"1\" class=\"dataframe\">\n",
       "  <thead>\n",
       "    <tr style=\"text-align: right;\">\n",
       "      <th></th>\n",
       "      <th>passengerid</th>\n",
       "      <th>pclass</th>\n",
       "      <th>name</th>\n",
       "      <th>sex</th>\n",
       "      <th>age</th>\n",
       "      <th>sibsp</th>\n",
       "      <th>parch</th>\n",
       "      <th>ticket</th>\n",
       "      <th>fare</th>\n",
       "      <th>cabin</th>\n",
       "      <th>embarked</th>\n",
       "      <th>PredSurvival</th>\n",
       "      <th>PredSurvivalProba</th>\n",
       "    </tr>\n",
       "  </thead>\n",
       "  <tbody>\n",
       "    <tr>\n",
       "      <th>0</th>\n",
       "      <td>892</td>\n",
       "      <td>3</td>\n",
       "      <td>Kelly, Mr. James</td>\n",
       "      <td>male</td>\n",
       "      <td>34.5</td>\n",
       "      <td>0</td>\n",
       "      <td>0</td>\n",
       "      <td>330911</td>\n",
       "      <td>7.8292</td>\n",
       "      <td>NaN</td>\n",
       "      <td>Q</td>\n",
       "      <td>0</td>\n",
       "      <td>0.015654</td>\n",
       "    </tr>\n",
       "    <tr>\n",
       "      <th>1</th>\n",
       "      <td>893</td>\n",
       "      <td>3</td>\n",
       "      <td>Wilkes, Mrs. James (Ellen Needs)</td>\n",
       "      <td>female</td>\n",
       "      <td>47.0</td>\n",
       "      <td>1</td>\n",
       "      <td>0</td>\n",
       "      <td>363272</td>\n",
       "      <td>7.0000</td>\n",
       "      <td>NaN</td>\n",
       "      <td>S</td>\n",
       "      <td>0</td>\n",
       "      <td>0.327666</td>\n",
       "    </tr>\n",
       "    <tr>\n",
       "      <th>2</th>\n",
       "      <td>894</td>\n",
       "      <td>2</td>\n",
       "      <td>Myles, Mr. Thomas Francis</td>\n",
       "      <td>male</td>\n",
       "      <td>62.0</td>\n",
       "      <td>0</td>\n",
       "      <td>0</td>\n",
       "      <td>240276</td>\n",
       "      <td>9.6875</td>\n",
       "      <td>NaN</td>\n",
       "      <td>Q</td>\n",
       "      <td>0</td>\n",
       "      <td>0.003135</td>\n",
       "    </tr>\n",
       "    <tr>\n",
       "      <th>3</th>\n",
       "      <td>895</td>\n",
       "      <td>3</td>\n",
       "      <td>Wirz, Mr. Albert</td>\n",
       "      <td>male</td>\n",
       "      <td>27.0</td>\n",
       "      <td>0</td>\n",
       "      <td>0</td>\n",
       "      <td>315154</td>\n",
       "      <td>8.6625</td>\n",
       "      <td>NaN</td>\n",
       "      <td>S</td>\n",
       "      <td>0</td>\n",
       "      <td>0.061426</td>\n",
       "    </tr>\n",
       "    <tr>\n",
       "      <th>4</th>\n",
       "      <td>896</td>\n",
       "      <td>3</td>\n",
       "      <td>Hirvonen, Mrs. Alexander (Helga E Lindqvist)</td>\n",
       "      <td>female</td>\n",
       "      <td>22.0</td>\n",
       "      <td>1</td>\n",
       "      <td>1</td>\n",
       "      <td>3101298</td>\n",
       "      <td>12.2875</td>\n",
       "      <td>NaN</td>\n",
       "      <td>S</td>\n",
       "      <td>0</td>\n",
       "      <td>0.429652</td>\n",
       "    </tr>\n",
       "  </tbody>\n",
       "</table>\n",
       "</div>"
      ],
      "text/plain": [
       "   passengerid  pclass                                          name     sex  \\\n",
       "0          892       3                              Kelly, Mr. James    male   \n",
       "1          893       3              Wilkes, Mrs. James (Ellen Needs)  female   \n",
       "2          894       2                     Myles, Mr. Thomas Francis    male   \n",
       "3          895       3                              Wirz, Mr. Albert    male   \n",
       "4          896       3  Hirvonen, Mrs. Alexander (Helga E Lindqvist)  female   \n",
       "\n",
       "    age  sibsp  parch   ticket     fare cabin embarked  PredSurvival  \\\n",
       "0  34.5      0      0   330911   7.8292   NaN        Q             0   \n",
       "1  47.0      1      0   363272   7.0000   NaN        S             0   \n",
       "2  62.0      0      0   240276   9.6875   NaN        Q             0   \n",
       "3  27.0      0      0   315154   8.6625   NaN        S             0   \n",
       "4  22.0      1      1  3101298  12.2875   NaN        S             0   \n",
       "\n",
       "   PredSurvivalProba  \n",
       "0           0.015654  \n",
       "1           0.327666  \n",
       "2           0.003135  \n",
       "3           0.061426  \n",
       "4           0.429652  "
      ]
     },
     "execution_count": 477,
     "metadata": {},
     "output_type": "execute_result"
    }
   ],
   "source": [
    "# put it into our dataframe\n",
    "df_test['PredSurvivalProba'] = prediction\n",
    "df_test['PredSurvival'] = [1 if x > 0.5 else 0 for x in df_test['PredSurvivalProba']]\n",
    "df_test.head()"
   ]
  },
  {
   "cell_type": "code",
   "execution_count": 479,
   "metadata": {},
   "outputs": [
    {
     "data": {
      "text/plain": [
       "<Axes: >"
      ]
     },
     "execution_count": 479,
     "metadata": {},
     "output_type": "execute_result"
    },
    {
     "data": {
      "image/png": "[encoded data removed]",
      "text/plain": [
       "<Figure size 640x480 with 1 Axes>"
      ]
     },
     "metadata": {},
     "output_type": "display_data"
    }
   ],
   "source": [
    "df_test['PredSurvival'].value_counts().plot(kind='bar')"
   ]
  }
 ],
 "metadata": {
  "kernelspec": {
   "display_name": "base",
   "language": "python",
   "name": "python3"
  },
  "language_info": {
   "codemirror_mode": {
    "name": "ipython",
    "version": 3
   },
   "file_extension": ".py",
   "mimetype": "text/x-python",
   "name": "python",
   "nbconvert_exporter": "python",
   "pygments_lexer": "ipython3",
   "version": "3.10.9"
  }
 },
 "nbformat": 4,
 "nbformat_minor": 2
}
